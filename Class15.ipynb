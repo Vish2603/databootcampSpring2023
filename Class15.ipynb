{
 "cells": [
  {
   "cell_type": "markdown",
   "id": "aa7833f1-3043-49cc-bd1c-288b6bc16181",
   "metadata": {},
   "source": [
    "# Dealing with data imbalance\n",
    "\n",
    "When classes are imbalanced a problem that appears is that the classification for the labels that are least represented tends to be poor. In order to explore this problem, we will be using data from the UCI Machine Learning Repository. The [Balance Scale Dataset](http://archive.ics.uci.edu/ml/datasets/balance+scale) is a synthetic dataset that was created to explore this problem.\n",
    "\n",
    "The dataset contains 3 labels (B, L, R) and it has 4 variables as features. The data was generated in the following way:\n",
    "\n",
    "* Generate var1, var2, var3, var4\n",
    "\n",
    "* If var3 * var4 > var1 * var2 generate R\n",
    "\n",
    "* If var3 * var4 < var1 * var2 generate L\n",
    "\n",
    "* If var3 * var4 = var1 * var2 generate B"
   ]
  },
  {
   "cell_type": "code",
   "execution_count": 1,
   "id": "ab03cb1e-09e2-40cc-a26f-63d82bce7361",
   "metadata": {},
   "outputs": [],
   "source": [
    "import pandas as pd\n",
    "import numpy as np\n",
    "from plotnine import *\n",
    "from sklearn.metrics import classification_report\n",
    "from sklearn import datasets\n",
    "from sklearn.linear_model import LogisticRegression\n",
    "from sklearn.metrics import roc_auc_score\n",
    "\n",
    "%matplotlib inline\n"
   ]
  },
  {
   "cell_type": "code",
   "execution_count": 2,
   "id": "098ca0c4-6162-48ca-baed-0a2364cfc84a",
   "metadata": {},
   "outputs": [
    {
     "data": {
      "text/html": [
       "<div>\n",
       "<style scoped>\n",
       "    .dataframe tbody tr th:only-of-type {\n",
       "        vertical-align: middle;\n",
       "    }\n",
       "\n",
       "    .dataframe tbody tr th {\n",
       "        vertical-align: top;\n",
       "    }\n",
       "\n",
       "    .dataframe thead th {\n",
       "        text-align: right;\n",
       "    }\n",
       "</style>\n",
       "<table border=\"1\" class=\"dataframe\">\n",
       "  <thead>\n",
       "    <tr style=\"text-align: right;\">\n",
       "      <th></th>\n",
       "      <th>balance</th>\n",
       "      <th>var1</th>\n",
       "      <th>var2</th>\n",
       "      <th>var3</th>\n",
       "      <th>var4</th>\n",
       "    </tr>\n",
       "  </thead>\n",
       "  <tbody>\n",
       "    <tr>\n",
       "      <th>0</th>\n",
       "      <td>B</td>\n",
       "      <td>1</td>\n",
       "      <td>1</td>\n",
       "      <td>1</td>\n",
       "      <td>1</td>\n",
       "    </tr>\n",
       "    <tr>\n",
       "      <th>1</th>\n",
       "      <td>R</td>\n",
       "      <td>1</td>\n",
       "      <td>1</td>\n",
       "      <td>1</td>\n",
       "      <td>2</td>\n",
       "    </tr>\n",
       "    <tr>\n",
       "      <th>2</th>\n",
       "      <td>R</td>\n",
       "      <td>1</td>\n",
       "      <td>1</td>\n",
       "      <td>1</td>\n",
       "      <td>3</td>\n",
       "    </tr>\n",
       "    <tr>\n",
       "      <th>3</th>\n",
       "      <td>R</td>\n",
       "      <td>1</td>\n",
       "      <td>1</td>\n",
       "      <td>1</td>\n",
       "      <td>4</td>\n",
       "    </tr>\n",
       "    <tr>\n",
       "      <th>4</th>\n",
       "      <td>R</td>\n",
       "      <td>1</td>\n",
       "      <td>1</td>\n",
       "      <td>1</td>\n",
       "      <td>5</td>\n",
       "    </tr>\n",
       "  </tbody>\n",
       "</table>\n",
       "</div>"
      ],
      "text/plain": [
       "  balance  var1  var2  var3  var4\n",
       "0       B     1     1     1     1\n",
       "1       R     1     1     1     2\n",
       "2       R     1     1     1     3\n",
       "3       R     1     1     1     4\n",
       "4       R     1     1     1     5"
      ]
     },
     "execution_count": 2,
     "metadata": {},
     "output_type": "execute_result"
    }
   ],
   "source": [
    "df = pd.read_csv('balancescale.csv', \n",
    "                 names=['balance', 'var1', 'var2', 'var3', 'var4'])\n",
    "\n",
    "df.head()"
   ]
  },
  {
   "cell_type": "markdown",
   "id": "87626ace-c5aa-455e-84c2-ce308ec584c6",
   "metadata": {},
   "source": [
    "Let's see if we have unbalanced classes"
   ]
  },
  {
   "cell_type": "code",
   "execution_count": 3,
   "id": "39c5da71-fc43-4bc2-a00e-4ab90b06c290",
   "metadata": {},
   "outputs": [
    {
     "data": {
      "text/plain": [
       "R    288\n",
       "L    288\n",
       "B     49\n",
       "Name: balance, dtype: int64"
      ]
     },
     "execution_count": 3,
     "metadata": {},
     "output_type": "execute_result"
    }
   ],
   "source": [
    "df['balance'].value_counts()"
   ]
  },
  {
   "cell_type": "markdown",
   "id": "0fd104de-cf19-4e08-9001-3f7b37027925",
   "metadata": {},
   "source": [
    "It seems that B has significantly less observations than the rest of the data. I will use a classification model that we have not before. Logistic regression. \n",
    "\n",
    "I will use it because it does not require any hyperparameters. "
   ]
  },
  {
   "cell_type": "code",
   "execution_count": 4,
   "id": "ac190559-f968-4c8a-b378-6893c1ce7982",
   "metadata": {},
   "outputs": [],
   "source": [
    "#Binarizing to make things simpler:\n",
    "\n",
    "\n",
    "df['balance'] = [1 if b=='B' else 0 for b in df.balance]"
   ]
  },
  {
   "cell_type": "code",
   "execution_count": 5,
   "id": "65b5825e-e23f-4fcd-a361-b638a67bb9c6",
   "metadata": {},
   "outputs": [],
   "source": [
    "y=df['balance']\n",
    "\n",
    "X=df[['var1', 'var2', 'var3', 'var4']]"
   ]
  },
  {
   "cell_type": "code",
   "execution_count": 6,
   "id": "a0476bff-9112-453f-88e1-727bbca0146d",
   "metadata": {},
   "outputs": [
    {
     "data": {
      "text/html": [
       "<div>\n",
       "<style scoped>\n",
       "    .dataframe tbody tr th:only-of-type {\n",
       "        vertical-align: middle;\n",
       "    }\n",
       "\n",
       "    .dataframe tbody tr th {\n",
       "        vertical-align: top;\n",
       "    }\n",
       "\n",
       "    .dataframe thead th {\n",
       "        text-align: right;\n",
       "    }\n",
       "</style>\n",
       "<table border=\"1\" class=\"dataframe\">\n",
       "  <thead>\n",
       "    <tr style=\"text-align: right;\">\n",
       "      <th></th>\n",
       "      <th>balance</th>\n",
       "      <th>var1</th>\n",
       "      <th>var2</th>\n",
       "      <th>var3</th>\n",
       "      <th>var4</th>\n",
       "      <th>predLR</th>\n",
       "    </tr>\n",
       "  </thead>\n",
       "  <tbody>\n",
       "    <tr>\n",
       "      <th>0</th>\n",
       "      <td>1</td>\n",
       "      <td>1</td>\n",
       "      <td>1</td>\n",
       "      <td>1</td>\n",
       "      <td>1</td>\n",
       "      <td>0</td>\n",
       "    </tr>\n",
       "    <tr>\n",
       "      <th>1</th>\n",
       "      <td>0</td>\n",
       "      <td>1</td>\n",
       "      <td>1</td>\n",
       "      <td>1</td>\n",
       "      <td>2</td>\n",
       "      <td>0</td>\n",
       "    </tr>\n",
       "    <tr>\n",
       "      <th>2</th>\n",
       "      <td>0</td>\n",
       "      <td>1</td>\n",
       "      <td>1</td>\n",
       "      <td>1</td>\n",
       "      <td>3</td>\n",
       "      <td>0</td>\n",
       "    </tr>\n",
       "    <tr>\n",
       "      <th>3</th>\n",
       "      <td>0</td>\n",
       "      <td>1</td>\n",
       "      <td>1</td>\n",
       "      <td>1</td>\n",
       "      <td>4</td>\n",
       "      <td>0</td>\n",
       "    </tr>\n",
       "    <tr>\n",
       "      <th>4</th>\n",
       "      <td>0</td>\n",
       "      <td>1</td>\n",
       "      <td>1</td>\n",
       "      <td>1</td>\n",
       "      <td>5</td>\n",
       "      <td>0</td>\n",
       "    </tr>\n",
       "  </tbody>\n",
       "</table>\n",
       "</div>"
      ],
      "text/plain": [
       "   balance  var1  var2  var3  var4  predLR\n",
       "0        1     1     1     1     1       0\n",
       "1        0     1     1     1     2       0\n",
       "2        0     1     1     1     3       0\n",
       "3        0     1     1     1     4       0\n",
       "4        0     1     1     1     5       0"
      ]
     },
     "execution_count": 6,
     "metadata": {},
     "output_type": "execute_result"
    }
   ],
   "source": [
    "#Let's get predictions\n",
    "\n",
    "predLR=LogisticRegression().fit(X,y).predict(X)\n",
    "\n",
    "df['predLR']=predLR\n",
    "\n",
    "df.head()"
   ]
  },
  {
   "cell_type": "code",
   "execution_count": 7,
   "id": "27237007-79f9-49d1-87a3-7729195bf82c",
   "metadata": {},
   "outputs": [
    {
     "name": "stdout",
     "output_type": "stream",
     "text": [
      "              precision    recall  f1-score   support\n",
      "\n",
      "           0       0.92      1.00      0.96       576\n",
      "           1       0.00      0.00      0.00        49\n",
      "\n",
      "    accuracy                           0.92       625\n",
      "   macro avg       0.46      0.50      0.48       625\n",
      "weighted avg       0.85      0.92      0.88       625\n",
      "\n"
     ]
    },
    {
     "name": "stderr",
     "output_type": "stream",
     "text": [
      "/Users/pablocrespo/opt/anaconda3/lib/python3.8/site-packages/sklearn/metrics/_classification.py:1334: UndefinedMetricWarning: Precision and F-score are ill-defined and being set to 0.0 in labels with no predicted samples. Use `zero_division` parameter to control this behavior.\n",
      "/Users/pablocrespo/opt/anaconda3/lib/python3.8/site-packages/sklearn/metrics/_classification.py:1334: UndefinedMetricWarning: Precision and F-score are ill-defined and being set to 0.0 in labels with no predicted samples. Use `zero_division` parameter to control this behavior.\n",
      "/Users/pablocrespo/opt/anaconda3/lib/python3.8/site-packages/sklearn/metrics/_classification.py:1334: UndefinedMetricWarning: Precision and F-score are ill-defined and being set to 0.0 in labels with no predicted samples. Use `zero_division` parameter to control this behavior.\n"
     ]
    }
   ],
   "source": [
    "print(classification_report(y_pred=df['predLR'], y_true=df['balance']))"
   ]
  },
  {
   "cell_type": "markdown",
   "id": "ff3b89d2-0835-4a69-9a4d-9df570f15555",
   "metadata": {},
   "source": [
    "Wait... what"
   ]
  },
  {
   "cell_type": "code",
   "execution_count": 8,
   "id": "d0b8c84b-9373-4a25-8ec4-7bed5ff6fa67",
   "metadata": {},
   "outputs": [
    {
     "data": {
      "text/plain": [
       "array([0])"
      ]
     },
     "execution_count": 8,
     "metadata": {},
     "output_type": "execute_result"
    }
   ],
   "source": [
    "df['predLR'].unique()"
   ]
  },
  {
   "cell_type": "markdown",
   "id": "0a40d9ac-f47f-4e31-94f0-00953fea12f0",
   "metadata": {},
   "source": [
    "All the predicted values are 0!"
   ]
  },
  {
   "cell_type": "markdown",
   "id": "5a45d8c1-4b9f-4e36-ac78-e4fcb8909200",
   "metadata": {},
   "source": [
    "## Two ways to deal with this:\n",
    "\n",
    "We would very much like to balance our classes  \n",
    "\n",
    "1. Upsample the data with few observations\n",
    "2. Downsample the data with lots of observations\n",
    "\n",
    "Scikit-learn thankfully has a way to do this.\n"
   ]
  },
  {
   "cell_type": "code",
   "execution_count": 9,
   "id": "d900f380-8133-44b9-8d76-0040b818fd37",
   "metadata": {},
   "outputs": [],
   "source": [
    "from sklearn.utils import resample\n"
   ]
  },
  {
   "cell_type": "code",
   "execution_count": 10,
   "id": "0121a1fc-47ea-4bd4-8845-b0a76fd4b08d",
   "metadata": {},
   "outputs": [],
   "source": [
    "# Separate majority and minority classes\n",
    "\n",
    "df_majority = df[df['balance']==0]\n",
    "\n",
    "df_minority = df[df['balance']==1]"
   ]
  },
  {
   "cell_type": "code",
   "execution_count": 11,
   "id": "ec91ec35-f106-4eab-9d4f-ade90c8efae1",
   "metadata": {},
   "outputs": [
    {
     "data": {
      "text/plain": [
       "(576, 6)"
      ]
     },
     "execution_count": 11,
     "metadata": {},
     "output_type": "execute_result"
    }
   ],
   "source": [
    "df_majority.shape"
   ]
  },
  {
   "cell_type": "code",
   "execution_count": 12,
   "id": "14cd0474-d98d-4c4a-919f-6173dd9ba1fd",
   "metadata": {},
   "outputs": [
    {
     "data": {
      "text/plain": [
       "(49, 6)"
      ]
     },
     "execution_count": 12,
     "metadata": {},
     "output_type": "execute_result"
    }
   ],
   "source": [
    "df_minority.shape"
   ]
  },
  {
   "cell_type": "markdown",
   "id": "49c4c82e-1e9f-4f85-b861-c47a43333ca4",
   "metadata": {},
   "source": [
    "## Upsampling minority class"
   ]
  },
  {
   "cell_type": "markdown",
   "id": "009d7a46-77b1-41d2-af71-573672794c1c",
   "metadata": {},
   "source": [
    "We will generate repetitions of the rows of the minority class at random"
   ]
  },
  {
   "cell_type": "code",
   "execution_count": 13,
   "id": "d0f36141-e668-461b-ad0f-cba98ad437e0",
   "metadata": {},
   "outputs": [],
   "source": [
    "df_minority_up = resample(df_minority, \n",
    "                                 replace=True,     # sample with replacement\n",
    "                                 n_samples=576,   \n",
    "                                 random_state=42) \n",
    " "
   ]
  },
  {
   "cell_type": "code",
   "execution_count": 14,
   "id": "2bb79224-f81a-4122-a024-7254b48403ac",
   "metadata": {},
   "outputs": [
    {
     "data": {
      "text/plain": [
       "(576, 6)"
      ]
     },
     "execution_count": 14,
     "metadata": {},
     "output_type": "execute_result"
    }
   ],
   "source": [
    "df_minority_up.shape"
   ]
  },
  {
   "cell_type": "code",
   "execution_count": 15,
   "id": "0f688c2b-1549-48bd-a31c-1e4ae915d8da",
   "metadata": {},
   "outputs": [],
   "source": [
    "#let's concatenate the datasets to make our new one\n",
    "\n",
    "df_up=pd.concat([df_majority, df_minority_up])"
   ]
  },
  {
   "cell_type": "code",
   "execution_count": 17,
   "id": "b5a0c9d5-1815-4149-9576-c11ffbf74f64",
   "metadata": {},
   "outputs": [
    {
     "data": {
      "text/html": [
       "<div>\n",
       "<style scoped>\n",
       "    .dataframe tbody tr th:only-of-type {\n",
       "        vertical-align: middle;\n",
       "    }\n",
       "\n",
       "    .dataframe tbody tr th {\n",
       "        vertical-align: top;\n",
       "    }\n",
       "\n",
       "    .dataframe thead th {\n",
       "        text-align: right;\n",
       "    }\n",
       "</style>\n",
       "<table border=\"1\" class=\"dataframe\">\n",
       "  <thead>\n",
       "    <tr style=\"text-align: right;\">\n",
       "      <th></th>\n",
       "      <th>balance</th>\n",
       "      <th>var1</th>\n",
       "      <th>var2</th>\n",
       "      <th>var3</th>\n",
       "      <th>var4</th>\n",
       "      <th>predLR</th>\n",
       "    </tr>\n",
       "  </thead>\n",
       "  <tbody>\n",
       "    <tr>\n",
       "      <th>1</th>\n",
       "      <td>0</td>\n",
       "      <td>1</td>\n",
       "      <td>1</td>\n",
       "      <td>1</td>\n",
       "      <td>2</td>\n",
       "      <td>0</td>\n",
       "    </tr>\n",
       "    <tr>\n",
       "      <th>2</th>\n",
       "      <td>0</td>\n",
       "      <td>1</td>\n",
       "      <td>1</td>\n",
       "      <td>1</td>\n",
       "      <td>3</td>\n",
       "      <td>0</td>\n",
       "    </tr>\n",
       "    <tr>\n",
       "      <th>3</th>\n",
       "      <td>0</td>\n",
       "      <td>1</td>\n",
       "      <td>1</td>\n",
       "      <td>1</td>\n",
       "      <td>4</td>\n",
       "      <td>0</td>\n",
       "    </tr>\n",
       "    <tr>\n",
       "      <th>4</th>\n",
       "      <td>0</td>\n",
       "      <td>1</td>\n",
       "      <td>1</td>\n",
       "      <td>1</td>\n",
       "      <td>5</td>\n",
       "      <td>0</td>\n",
       "    </tr>\n",
       "    <tr>\n",
       "      <th>5</th>\n",
       "      <td>0</td>\n",
       "      <td>1</td>\n",
       "      <td>1</td>\n",
       "      <td>2</td>\n",
       "      <td>1</td>\n",
       "      <td>0</td>\n",
       "    </tr>\n",
       "  </tbody>\n",
       "</table>\n",
       "</div>"
      ],
      "text/plain": [
       "   balance  var1  var2  var3  var4  predLR\n",
       "1        0     1     1     1     2       0\n",
       "2        0     1     1     1     3       0\n",
       "3        0     1     1     1     4       0\n",
       "4        0     1     1     1     5       0\n",
       "5        0     1     1     2     1       0"
      ]
     },
     "execution_count": 17,
     "metadata": {},
     "output_type": "execute_result"
    }
   ],
   "source": [
    "df_up.head()"
   ]
  },
  {
   "cell_type": "code",
   "execution_count": 18,
   "id": "7322bcf3-7bdb-4957-9d0f-029ee18b65fc",
   "metadata": {},
   "outputs": [],
   "source": [
    "df_up.drop(columns='predLR', inplace=True)"
   ]
  },
  {
   "cell_type": "code",
   "execution_count": 19,
   "id": "dc2a7706-4f50-4967-81b5-5c311fa70c3f",
   "metadata": {},
   "outputs": [],
   "source": [
    "features=['var1', 'var2', 'var3', 'var4']\n",
    "\n",
    "predLR2=LogisticRegression().fit(X=df_up[features],\n",
    "                                y=df_up['balance']).predict(df_up[features])"
   ]
  },
  {
   "cell_type": "code",
   "execution_count": 20,
   "id": "93ffc817-c8be-4f58-ac3f-e88dbb90fb16",
   "metadata": {},
   "outputs": [],
   "source": [
    "df_up['predLR']=predLR2"
   ]
  },
  {
   "cell_type": "code",
   "execution_count": 21,
   "id": "ce4d1203-5e34-465b-a265-89bdbad08dbc",
   "metadata": {},
   "outputs": [
    {
     "name": "stdout",
     "output_type": "stream",
     "text": [
      "              precision    recall  f1-score   support\n",
      "\n",
      "           0       0.53      0.53      0.53       576\n",
      "           1       0.53      0.53      0.53       576\n",
      "\n",
      "    accuracy                           0.53      1152\n",
      "   macro avg       0.53      0.53      0.53      1152\n",
      "weighted avg       0.53      0.53      0.53      1152\n",
      "\n"
     ]
    }
   ],
   "source": [
    "print(classification_report(y_pred=df_up['predLR'],\n",
    "                            y_true=df_up['balance']))"
   ]
  },
  {
   "cell_type": "markdown",
   "id": "b03ab677-ed13-4903-85fd-4bd8d22d1942",
   "metadata": {},
   "source": [
    "We are no longer predicting just one class! However, we got a pretty bad hit on the 0 class. However, that is still an overall better result than no classification at all. What about AUC scores?"
   ]
  },
  {
   "cell_type": "code",
   "execution_count": 22,
   "id": "0d9f67e6-14ed-42be-acc7-b44c12d0b4b9",
   "metadata": {},
   "outputs": [
    {
     "data": {
      "text/plain": [
       "0.5307539682539683"
      ]
     },
     "execution_count": 22,
     "metadata": {},
     "output_type": "execute_result"
    }
   ],
   "source": [
    "roc_auc_score(y_true=df.balance, \n",
    "              y_score=LogisticRegression().fit(X,y).predict_proba(X)[:, 1])"
   ]
  },
  {
   "cell_type": "code",
   "execution_count": 23,
   "id": "2ffbd4df-4f69-43fe-ba53-b1d8bdaf10e5",
   "metadata": {},
   "outputs": [
    {
     "data": {
      "text/plain": [
       "0.54297176408179"
      ]
     },
     "execution_count": 23,
     "metadata": {},
     "output_type": "execute_result"
    }
   ],
   "source": [
    "roc_auc_score(y_true=df_up.balance, \n",
    "              y_score=LogisticRegression().fit(df_up[features],df_up.balance).predict_proba(df_up[features])[:, 1])"
   ]
  },
  {
   "cell_type": "markdown",
   "id": "babe9ec0-7521-4c53-9a3c-33091763415a",
   "metadata": {},
   "source": [
    "This improved things a bit"
   ]
  },
  {
   "cell_type": "markdown",
   "id": "39bfb124-94f9-430f-82f3-bf3fbf5878ad",
   "metadata": {},
   "source": [
    "## Downsampling majority data"
   ]
  },
  {
   "cell_type": "code",
   "execution_count": 24,
   "id": "71b4712c-3f65-49a5-acf1-d8f8b8af0c23",
   "metadata": {},
   "outputs": [],
   "source": [
    "df_majority_down = resample(df_majority, \n",
    "                                 replace=True,     \n",
    "                                 n_samples=49,   \n",
    "                                 random_state=42) \n",
    " "
   ]
  },
  {
   "cell_type": "code",
   "execution_count": 25,
   "id": "9fc0ceda-3c15-413c-b4f8-7ea9c421b13f",
   "metadata": {},
   "outputs": [],
   "source": [
    "df_down=pd.concat([df_majority_down, df_minority])"
   ]
  },
  {
   "cell_type": "code",
   "execution_count": 26,
   "id": "85cd6c1e-5cec-4ee1-872e-b4c641ee2cd7",
   "metadata": {},
   "outputs": [
    {
     "data": {
      "text/html": [
       "<div>\n",
       "<style scoped>\n",
       "    .dataframe tbody tr th:only-of-type {\n",
       "        vertical-align: middle;\n",
       "    }\n",
       "\n",
       "    .dataframe tbody tr th {\n",
       "        vertical-align: top;\n",
       "    }\n",
       "\n",
       "    .dataframe thead th {\n",
       "        text-align: right;\n",
       "    }\n",
       "</style>\n",
       "<table border=\"1\" class=\"dataframe\">\n",
       "  <thead>\n",
       "    <tr style=\"text-align: right;\">\n",
       "      <th></th>\n",
       "      <th>balance</th>\n",
       "      <th>var1</th>\n",
       "      <th>var2</th>\n",
       "      <th>var3</th>\n",
       "      <th>var4</th>\n",
       "      <th>predLR</th>\n",
       "    </tr>\n",
       "  </thead>\n",
       "  <tbody>\n",
       "    <tr>\n",
       "      <th>111</th>\n",
       "      <td>0</td>\n",
       "      <td>1</td>\n",
       "      <td>5</td>\n",
       "      <td>3</td>\n",
       "      <td>2</td>\n",
       "      <td>0</td>\n",
       "    </tr>\n",
       "    <tr>\n",
       "      <th>473</th>\n",
       "      <td>0</td>\n",
       "      <td>4</td>\n",
       "      <td>4</td>\n",
       "      <td>5</td>\n",
       "      <td>4</td>\n",
       "      <td>0</td>\n",
       "    </tr>\n",
       "    <tr>\n",
       "      <th>295</th>\n",
       "      <td>0</td>\n",
       "      <td>3</td>\n",
       "      <td>2</td>\n",
       "      <td>5</td>\n",
       "      <td>1</td>\n",
       "      <td>0</td>\n",
       "    </tr>\n",
       "    <tr>\n",
       "      <th>115</th>\n",
       "      <td>0</td>\n",
       "      <td>1</td>\n",
       "      <td>5</td>\n",
       "      <td>4</td>\n",
       "      <td>1</td>\n",
       "      <td>0</td>\n",
       "    </tr>\n",
       "    <tr>\n",
       "      <th>76</th>\n",
       "      <td>0</td>\n",
       "      <td>1</td>\n",
       "      <td>4</td>\n",
       "      <td>1</td>\n",
       "      <td>2</td>\n",
       "      <td>0</td>\n",
       "    </tr>\n",
       "  </tbody>\n",
       "</table>\n",
       "</div>"
      ],
      "text/plain": [
       "     balance  var1  var2  var3  var4  predLR\n",
       "111        0     1     5     3     2       0\n",
       "473        0     4     4     5     4       0\n",
       "295        0     3     2     5     1       0\n",
       "115        0     1     5     4     1       0\n",
       "76         0     1     4     1     2       0"
      ]
     },
     "execution_count": 26,
     "metadata": {},
     "output_type": "execute_result"
    }
   ],
   "source": [
    "df_down.head()"
   ]
  },
  {
   "cell_type": "code",
   "execution_count": 27,
   "id": "dcbdcf91-a8f1-4697-8d69-b68f2c544fd2",
   "metadata": {},
   "outputs": [],
   "source": [
    "df_down.drop(columns='predLR', inplace=True)"
   ]
  },
  {
   "cell_type": "code",
   "execution_count": 28,
   "id": "86c92539-616d-4d24-8d86-0ad955169bda",
   "metadata": {},
   "outputs": [],
   "source": [
    "predLR3=LogisticRegression().fit(X=df_down[features],\n",
    "                                y=df_down['balance']).predict(df_down[features])"
   ]
  },
  {
   "cell_type": "code",
   "execution_count": 29,
   "id": "2e058ff0-38e5-4f86-bc41-7c0f870d1f1f",
   "metadata": {},
   "outputs": [],
   "source": [
    "df_down['predLR']=predLR3"
   ]
  },
  {
   "cell_type": "code",
   "execution_count": 30,
   "id": "da80b665-f162-4630-8892-21a97b761724",
   "metadata": {},
   "outputs": [
    {
     "data": {
      "text/html": [
       "<div>\n",
       "<style scoped>\n",
       "    .dataframe tbody tr th:only-of-type {\n",
       "        vertical-align: middle;\n",
       "    }\n",
       "\n",
       "    .dataframe tbody tr th {\n",
       "        vertical-align: top;\n",
       "    }\n",
       "\n",
       "    .dataframe thead th {\n",
       "        text-align: right;\n",
       "    }\n",
       "</style>\n",
       "<table border=\"1\" class=\"dataframe\">\n",
       "  <thead>\n",
       "    <tr style=\"text-align: right;\">\n",
       "      <th></th>\n",
       "      <th>balance</th>\n",
       "      <th>var1</th>\n",
       "      <th>var2</th>\n",
       "      <th>var3</th>\n",
       "      <th>var4</th>\n",
       "      <th>predLR</th>\n",
       "    </tr>\n",
       "  </thead>\n",
       "  <tbody>\n",
       "    <tr>\n",
       "      <th>111</th>\n",
       "      <td>0</td>\n",
       "      <td>1</td>\n",
       "      <td>5</td>\n",
       "      <td>3</td>\n",
       "      <td>2</td>\n",
       "      <td>0</td>\n",
       "    </tr>\n",
       "    <tr>\n",
       "      <th>473</th>\n",
       "      <td>0</td>\n",
       "      <td>4</td>\n",
       "      <td>4</td>\n",
       "      <td>5</td>\n",
       "      <td>4</td>\n",
       "      <td>0</td>\n",
       "    </tr>\n",
       "    <tr>\n",
       "      <th>295</th>\n",
       "      <td>0</td>\n",
       "      <td>3</td>\n",
       "      <td>2</td>\n",
       "      <td>5</td>\n",
       "      <td>1</td>\n",
       "      <td>0</td>\n",
       "    </tr>\n",
       "    <tr>\n",
       "      <th>115</th>\n",
       "      <td>0</td>\n",
       "      <td>1</td>\n",
       "      <td>5</td>\n",
       "      <td>4</td>\n",
       "      <td>1</td>\n",
       "      <td>0</td>\n",
       "    </tr>\n",
       "    <tr>\n",
       "      <th>76</th>\n",
       "      <td>0</td>\n",
       "      <td>1</td>\n",
       "      <td>4</td>\n",
       "      <td>1</td>\n",
       "      <td>2</td>\n",
       "      <td>1</td>\n",
       "    </tr>\n",
       "  </tbody>\n",
       "</table>\n",
       "</div>"
      ],
      "text/plain": [
       "     balance  var1  var2  var3  var4  predLR\n",
       "111        0     1     5     3     2       0\n",
       "473        0     4     4     5     4       0\n",
       "295        0     3     2     5     1       0\n",
       "115        0     1     5     4     1       0\n",
       "76         0     1     4     1     2       1"
      ]
     },
     "execution_count": 30,
     "metadata": {},
     "output_type": "execute_result"
    }
   ],
   "source": [
    "df_down.head()"
   ]
  },
  {
   "cell_type": "markdown",
   "id": "28dd0cf0-1128-4b5c-b6b8-08d932e543ed",
   "metadata": {},
   "source": [
    "Let's look at the classification report"
   ]
  },
  {
   "cell_type": "code",
   "execution_count": 31,
   "id": "32f0652a-125c-41b8-a396-939fd98b98d9",
   "metadata": {},
   "outputs": [
    {
     "name": "stdout",
     "output_type": "stream",
     "text": [
      "              precision    recall  f1-score   support\n",
      "\n",
      "           0       0.54      0.53      0.54        49\n",
      "           1       0.54      0.55      0.55        49\n",
      "\n",
      "    accuracy                           0.54        98\n",
      "   macro avg       0.54      0.54      0.54        98\n",
      "weighted avg       0.54      0.54      0.54        98\n",
      "\n"
     ]
    }
   ],
   "source": [
    "print(classification_report(y_pred=df_down['predLR'],\n",
    "                            y_true=df_down['balance']))"
   ]
  },
  {
   "cell_type": "markdown",
   "id": "9b73e906-65e8-4ef2-ad9c-42bd9f235594",
   "metadata": {},
   "source": [
    "What about the ROC AUC score?"
   ]
  },
  {
   "cell_type": "code",
   "execution_count": 32,
   "id": "2b1e3628-4821-4734-9f65-2cae52c9064a",
   "metadata": {},
   "outputs": [
    {
     "data": {
      "text/plain": [
       "0.5472719700124948"
      ]
     },
     "execution_count": 32,
     "metadata": {},
     "output_type": "execute_result"
    }
   ],
   "source": [
    "roc_auc_score(y_true=df_down.balance, \n",
    "              y_score=LogisticRegression().fit(df_down[features],df_down.balance).predict_proba(df_down[features])[:, 1])"
   ]
  },
  {
   "cell_type": "markdown",
   "id": "5b26b956-7d3b-46f9-8b63-9eafc187d48b",
   "metadata": {},
   "source": [
    "This is the best one so far!\n",
    "\n",
    "Imbalance is a significantly difficult problem to solve. The techniques I have shown you are popular because they are better than no alternatives. But generally, we might want to use them in combination of models that use multiple submodels. The only case we have studied of such are Random forests."
   ]
  },
  {
   "cell_type": "markdown",
   "id": "8408dc2e-e302-4bc6-9c51-8ee637d6641c",
   "metadata": {},
   "source": [
    "# Unsupervised learning\n",
    "\n",
    "So far we have dealt with predictions based on some dependent ($y$) and indepent variables ($X$). The dependent variables being generally our target for prediction. But what happens if we have data for which labels are not available?\n",
    "\n",
    "We might still want to group them. The set of algorithms and models that do such are called unsupervised algorithms. We will see one of those called \"K-means clustering\""
   ]
  },
  {
   "cell_type": "code",
   "execution_count": 33,
   "id": "26854d97-59e1-4cce-9ad7-24074b9d017f",
   "metadata": {},
   "outputs": [],
   "source": [
    "#Let's load our iris dataset\n",
    "\n",
    "iris = datasets.load_iris()\n"
   ]
  },
  {
   "cell_type": "markdown",
   "id": "c594a387-c2bb-4cf0-92c4-9aa3397a96b1",
   "metadata": {},
   "source": [
    "We will turn this into a dataframe to handle it more easily"
   ]
  },
  {
   "cell_type": "code",
   "execution_count": 34,
   "id": "dbc1b58b-9df1-44b7-b007-54f9b968a6ce",
   "metadata": {},
   "outputs": [
    {
     "data": {
      "text/html": [
       "<div>\n",
       "<style scoped>\n",
       "    .dataframe tbody tr th:only-of-type {\n",
       "        vertical-align: middle;\n",
       "    }\n",
       "\n",
       "    .dataframe tbody tr th {\n",
       "        vertical-align: top;\n",
       "    }\n",
       "\n",
       "    .dataframe thead th {\n",
       "        text-align: right;\n",
       "    }\n",
       "</style>\n",
       "<table border=\"1\" class=\"dataframe\">\n",
       "  <thead>\n",
       "    <tr style=\"text-align: right;\">\n",
       "      <th></th>\n",
       "      <th>sepal length (cm)</th>\n",
       "      <th>sepal width (cm)</th>\n",
       "      <th>petal length (cm)</th>\n",
       "      <th>petal width (cm)</th>\n",
       "      <th>label</th>\n",
       "    </tr>\n",
       "  </thead>\n",
       "  <tbody>\n",
       "    <tr>\n",
       "      <th>0</th>\n",
       "      <td>5.1</td>\n",
       "      <td>3.5</td>\n",
       "      <td>1.4</td>\n",
       "      <td>0.2</td>\n",
       "      <td>0</td>\n",
       "    </tr>\n",
       "    <tr>\n",
       "      <th>1</th>\n",
       "      <td>4.9</td>\n",
       "      <td>3.0</td>\n",
       "      <td>1.4</td>\n",
       "      <td>0.2</td>\n",
       "      <td>0</td>\n",
       "    </tr>\n",
       "    <tr>\n",
       "      <th>2</th>\n",
       "      <td>4.7</td>\n",
       "      <td>3.2</td>\n",
       "      <td>1.3</td>\n",
       "      <td>0.2</td>\n",
       "      <td>0</td>\n",
       "    </tr>\n",
       "    <tr>\n",
       "      <th>3</th>\n",
       "      <td>4.6</td>\n",
       "      <td>3.1</td>\n",
       "      <td>1.5</td>\n",
       "      <td>0.2</td>\n",
       "      <td>0</td>\n",
       "    </tr>\n",
       "    <tr>\n",
       "      <th>4</th>\n",
       "      <td>5.0</td>\n",
       "      <td>3.6</td>\n",
       "      <td>1.4</td>\n",
       "      <td>0.2</td>\n",
       "      <td>0</td>\n",
       "    </tr>\n",
       "  </tbody>\n",
       "</table>\n",
       "</div>"
      ],
      "text/plain": [
       "   sepal length (cm)  sepal width (cm)  petal length (cm)  petal width (cm)  \\\n",
       "0                5.1               3.5                1.4               0.2   \n",
       "1                4.9               3.0                1.4               0.2   \n",
       "2                4.7               3.2                1.3               0.2   \n",
       "3                4.6               3.1                1.5               0.2   \n",
       "4                5.0               3.6                1.4               0.2   \n",
       "\n",
       "   label  \n",
       "0      0  \n",
       "1      0  \n",
       "2      0  \n",
       "3      0  \n",
       "4      0  "
      ]
     },
     "execution_count": 34,
     "metadata": {},
     "output_type": "execute_result"
    }
   ],
   "source": [
    "iris_df = pd.DataFrame(iris.data,columns=iris.feature_names)\n",
    "iris_df['label']=pd.Series(iris.target)\n",
    "\n",
    "iris_df.head()"
   ]
  },
  {
   "cell_type": "markdown",
   "id": "915013f3-dfa4-4a7b-baca-81b5c07138c3",
   "metadata": {},
   "source": [
    "In this case the labels have 4 possible dimensions. How easy would it be for us to visualize how the labels are grouped if we were to plot the data."
   ]
  },
  {
   "cell_type": "code",
   "execution_count": 35,
   "id": "6028472b-8de9-4581-a1fd-dc529732c12f",
   "metadata": {},
   "outputs": [
    {
     "data": {
      "image/png": "[encoded data removed]",
      "text/plain": [
       "<Figure size 640x480 with 1 Axes>"
      ]
     },
     "metadata": {},
     "output_type": "display_data"
    },
    {
     "data": {
      "text/plain": [
       "<ggplot: (8780548935714)>"
      ]
     },
     "execution_count": 35,
     "metadata": {},
     "output_type": "execute_result"
    }
   ],
   "source": [
    "(ggplot(iris_df, aes(x='petal length (cm)', y='petal width (cm)'))+\n",
    "      geom_point(color='steelblue')+\n",
    "      theme_bw())"
   ]
  },
  {
   "cell_type": "code",
   "execution_count": 36,
   "id": "623479b7-5cb2-45fe-b10c-a50ec144756f",
   "metadata": {},
   "outputs": [
    {
     "data": {
      "image/png": "[encoded data removed]",
      "text/plain": [
       "<Figure size 640x480 with 1 Axes>"
      ]
     },
     "metadata": {},
     "output_type": "display_data"
    },
    {
     "data": {
      "text/plain": [
       "<ggplot: (8780549001554)>"
      ]
     },
     "execution_count": 36,
     "metadata": {},
     "output_type": "execute_result"
    }
   ],
   "source": [
    "(ggplot(iris_df, aes(x='sepal length (cm)', y='sepal width (cm)'))+\n",
    "      geom_point(color='steelblue')+\n",
    "      theme_bw())"
   ]
  },
  {
   "cell_type": "markdown",
   "id": "0c68a2ff-d2ed-4590-a35d-342e34237d46",
   "metadata": {},
   "source": [
    "It's not particularly easy to see it, but we can see that there are at least 2 different groups. We can use the distances of the features to build groups. "
   ]
  },
  {
   "cell_type": "markdown",
   "id": "47f69bcc-3b58-4a73-9169-ade147aa9d38",
   "metadata": {},
   "source": [
    "## K means clustering\n",
    "\n",
    "This algorightm simply picks K groups of data or clusters based on how distant they are to a \"centroid\" that defines the group. The algorithm is composed of the following steps:\n",
    "\n",
    "\n",
    "* Select a specific number (K) of groups \n",
    "\n",
    "* Generate K observations at random within the scope of our data (centroids) \n",
    "\n",
    "* Compute all the distances from all the observations to the centroids\n",
    "\n",
    "* Assign to the same group the points to their closest centroid\n",
    "\n",
    "* Average out the observations for each group to generate new centroids\n",
    "\n",
    "* Repeat the last 3 steps until the observations stop changing their group assignment significantly\n"
   ]
  },
  {
   "cell_type": "code",
   "execution_count": 37,
   "id": "7fbe6e79-1c8a-4a69-b095-f9aa5c7b0ef0",
   "metadata": {},
   "outputs": [],
   "source": [
    "from sklearn.cluster import KMeans\n",
    "\n",
    "#Let's try with three clusters\n",
    "\n",
    "kmeans=KMeans(n_clusters=3)\n"
   ]
  },
  {
   "cell_type": "code",
   "execution_count": 38,
   "id": "8bb7e0db-4150-43db-973e-f04159d3201a",
   "metadata": {},
   "outputs": [
    {
     "data": {
      "text/plain": [
       "['sepal length (cm)',\n",
       " 'sepal width (cm)',\n",
       " 'petal length (cm)',\n",
       " 'petal width (cm)']"
      ]
     },
     "execution_count": 38,
     "metadata": {},
     "output_type": "execute_result"
    }
   ],
   "source": [
    "features=['sepal length (cm)',\n",
    " 'sepal width (cm)',\n",
    " 'petal length (cm)',\n",
    " 'petal width (cm)']\n",
    "\n",
    "features"
   ]
  },
  {
   "cell_type": "code",
   "execution_count": 39,
   "id": "38bc203d-587c-4ae3-af8c-07a29330be12",
   "metadata": {},
   "outputs": [],
   "source": [
    "#Let's get the predictions\n",
    "\n",
    "iris_df['kpreds']=kmeans.fit(iris_df[features]).predict(iris_df[features])"
   ]
  },
  {
   "cell_type": "code",
   "execution_count": 40,
   "id": "1703f584-b2e8-47a2-8f23-ea2454f5e6f8",
   "metadata": {},
   "outputs": [
    {
     "data": {
      "text/html": [
       "<div>\n",
       "<style scoped>\n",
       "    .dataframe tbody tr th:only-of-type {\n",
       "        vertical-align: middle;\n",
       "    }\n",
       "\n",
       "    .dataframe tbody tr th {\n",
       "        vertical-align: top;\n",
       "    }\n",
       "\n",
       "    .dataframe thead th {\n",
       "        text-align: right;\n",
       "    }\n",
       "</style>\n",
       "<table border=\"1\" class=\"dataframe\">\n",
       "  <thead>\n",
       "    <tr style=\"text-align: right;\">\n",
       "      <th></th>\n",
       "      <th>sepal length (cm)</th>\n",
       "      <th>sepal width (cm)</th>\n",
       "      <th>petal length (cm)</th>\n",
       "      <th>petal width (cm)</th>\n",
       "      <th>label</th>\n",
       "      <th>kpreds</th>\n",
       "    </tr>\n",
       "  </thead>\n",
       "  <tbody>\n",
       "    <tr>\n",
       "      <th>0</th>\n",
       "      <td>5.1</td>\n",
       "      <td>3.5</td>\n",
       "      <td>1.4</td>\n",
       "      <td>0.2</td>\n",
       "      <td>0</td>\n",
       "      <td>1</td>\n",
       "    </tr>\n",
       "    <tr>\n",
       "      <th>1</th>\n",
       "      <td>4.9</td>\n",
       "      <td>3.0</td>\n",
       "      <td>1.4</td>\n",
       "      <td>0.2</td>\n",
       "      <td>0</td>\n",
       "      <td>1</td>\n",
       "    </tr>\n",
       "    <tr>\n",
       "      <th>2</th>\n",
       "      <td>4.7</td>\n",
       "      <td>3.2</td>\n",
       "      <td>1.3</td>\n",
       "      <td>0.2</td>\n",
       "      <td>0</td>\n",
       "      <td>1</td>\n",
       "    </tr>\n",
       "    <tr>\n",
       "      <th>3</th>\n",
       "      <td>4.6</td>\n",
       "      <td>3.1</td>\n",
       "      <td>1.5</td>\n",
       "      <td>0.2</td>\n",
       "      <td>0</td>\n",
       "      <td>1</td>\n",
       "    </tr>\n",
       "    <tr>\n",
       "      <th>4</th>\n",
       "      <td>5.0</td>\n",
       "      <td>3.6</td>\n",
       "      <td>1.4</td>\n",
       "      <td>0.2</td>\n",
       "      <td>0</td>\n",
       "      <td>1</td>\n",
       "    </tr>\n",
       "  </tbody>\n",
       "</table>\n",
       "</div>"
      ],
      "text/plain": [
       "   sepal length (cm)  sepal width (cm)  petal length (cm)  petal width (cm)  \\\n",
       "0                5.1               3.5                1.4               0.2   \n",
       "1                4.9               3.0                1.4               0.2   \n",
       "2                4.7               3.2                1.3               0.2   \n",
       "3                4.6               3.1                1.5               0.2   \n",
       "4                5.0               3.6                1.4               0.2   \n",
       "\n",
       "   label  kpreds  \n",
       "0      0       1  \n",
       "1      0       1  \n",
       "2      0       1  \n",
       "3      0       1  \n",
       "4      0       1  "
      ]
     },
     "execution_count": 40,
     "metadata": {},
     "output_type": "execute_result"
    }
   ],
   "source": [
    "iris_df.head()"
   ]
  },
  {
   "cell_type": "markdown",
   "id": "ebdeb5bf-e12a-413c-ad96-d2b417a00373",
   "metadata": {},
   "source": [
    "Note that we are not checking to see if the true labels are matched by the predictions because we generally don't have the true labels when we do this kind of work! We have them here for instructional purposes.\n",
    "\n",
    "Let's look at the original data and its labels"
   ]
  },
  {
   "cell_type": "markdown",
   "id": "083fe4f9-a5cc-4de7-b102-e271de482c40",
   "metadata": {},
   "source": [
    "(ggplot(data=iris_df, mapping=aes(x='petal length (cm)',\n",
    "                                 y='petal width (cm)', color='factor(label)'))+\n",
    "geom_point()+\n",
    "theme_bw())"
   ]
  },
  {
   "cell_type": "markdown",
   "id": "87b2f07d-edd8-4228-a7b8-db1780f80499",
   "metadata": {},
   "source": [
    "Let's look at the predicted data now"
   ]
  },
  {
   "cell_type": "code",
   "execution_count": 41,
   "id": "1182e2e1-5970-40ee-9989-812b2d7514ef",
   "metadata": {},
   "outputs": [
    {
     "data": {
      "image/png": "[encoded data removed]",
      "text/plain": [
       "<Figure size 640x480 with 1 Axes>"
      ]
     },
     "metadata": {},
     "output_type": "display_data"
    },
    {
     "data": {
      "text/plain": [
       "<ggplot: (8780548956603)>"
      ]
     },
     "execution_count": 41,
     "metadata": {},
     "output_type": "execute_result"
    }
   ],
   "source": [
    "(ggplot(data=iris_df, mapping=aes(x='petal length (cm)',\n",
    "                                 y='petal width (cm)', color='factor(label)'))+\n",
    "geom_point()+\n",
    "theme_bw())"
   ]
  },
  {
   "cell_type": "code",
   "execution_count": 42,
   "id": "61d6207d-f056-4b2e-9ea2-c11abef0ff0f",
   "metadata": {},
   "outputs": [
    {
     "data": {
      "image/png": "[encoded data removed]",
      "text/plain": [
       "<Figure size 640x480 with 1 Axes>"
      ]
     },
     "metadata": {},
     "output_type": "display_data"
    },
    {
     "data": {
      "text/plain": [
       "<ggplot: (8780548989663)>"
      ]
     },
     "execution_count": 42,
     "metadata": {},
     "output_type": "execute_result"
    }
   ],
   "source": [
    "(ggplot(data=iris_df, mapping=aes(x='petal length (cm)',\n",
    "                                 y='petal width (cm)', color='factor(kpreds)'))+\n",
    "geom_point()+\n",
    "theme_bw())"
   ]
  },
  {
   "cell_type": "markdown",
   "id": "c973e940-00b4-45f2-b1fb-28726282c65c",
   "metadata": {},
   "source": [
    "Nice! While we knew the data labels followed species, or K means algorithm did not and it seems to still have caught the  general points that are latently separated. Let's add the centroids to the plot and let's see it in different dimensions to see if the splits make sense."
   ]
  },
  {
   "cell_type": "code",
   "execution_count": null,
   "id": "6e45360c-ba20-4065-9734-c696dcc5fe2c",
   "metadata": {},
   "outputs": [],
   "source": [
    "centroids_df=pd.DataFrame(kmeans.cluster_centers_,\n",
    "                          columns=iris.feature_names)"
   ]
  },
  {
   "cell_type": "markdown",
   "id": "c14b9460-c056-49f2-8a84-81fd3dd7d599",
   "metadata": {},
   "source": [
    "Showing the first"
   ]
  },
  {
   "cell_type": "code",
   "execution_count": null,
   "id": "ee6e3ed3-4902-4037-959e-4d61872b4a42",
   "metadata": {},
   "outputs": [],
   "source": [
    "(ggplot(data=iris_df, mapping=aes(x='petal length (cm)',\n",
    "                                 y='petal width (cm)', color='factor(kpreds)'))+\n",
    "geom_point()+\n",
    " geom_point(data=centroids_df, mapping=aes(x='petal length (cm)',\n",
    "                                          y='petal width (cm)'),\n",
    "           color='black', shape=7, size=4)+\n",
    "theme_bw())"
   ]
  },
  {
   "cell_type": "code",
   "execution_count": null,
   "id": "4a800b2f-5147-45be-8de7-6ec30b351a24",
   "metadata": {},
   "outputs": [],
   "source": [
    "(ggplot(data=iris_df, mapping=aes(x='sepal length (cm)',\n",
    "                                 y='sepal width (cm)', color='factor(kpreds)'))+\n",
    "geom_point()+\n",
    " geom_point(data=centroids_df, mapping=aes(x='sepal length (cm)',\n",
    "                                          y='sepal width (cm)'),\n",
    "           color='black', shape=7, size=4)+\n",
    "theme_bw())"
   ]
  },
  {
   "cell_type": "code",
   "execution_count": null,
   "id": "1ae9a102-8688-44d8-87f0-125a4b8ecd57",
   "metadata": {},
   "outputs": [],
   "source": [
    "(ggplot(data=iris_df, mapping=aes(x='sepal length (cm)',\n",
    "                                 y='petal width (cm)', color='factor(kpreds)'))+\n",
    "geom_point()+\n",
    " geom_point(data=centroids_df, mapping=aes(x='sepal length (cm)',\n",
    "                                          y='petal width (cm)'),\n",
    "           color='black', shape=7, size=4)+\n",
    "theme_bw())"
   ]
  },
  {
   "cell_type": "code",
   "execution_count": null,
   "id": "80b15517-d651-4078-84d3-c8723345826d",
   "metadata": {},
   "outputs": [],
   "source": [
    "(ggplot(data=iris_df, mapping=aes(x='petal length (cm)',\n",
    "                                 y='sepal width (cm)', color='factor(kpreds)'))+\n",
    "geom_point()+\n",
    " geom_point(data=centroids_df, mapping=aes(x='petal length (cm)',\n",
    "                                          y='sepal width (cm)'),\n",
    "           color='black', shape=7, size=4)+\n",
    "theme_bw())"
   ]
  },
  {
   "cell_type": "markdown",
   "id": "de159b85-02ea-4413-bcf5-9e86adc592dc",
   "metadata": {},
   "source": [
    "This looks great, we can see why it works. But one problem is that we picked 3 groups knowing a priori there was 3 species, what if we said 5?"
   ]
  },
  {
   "cell_type": "code",
   "execution_count": null,
   "id": "e6a1a5cf-6a89-4999-b2d5-6e5edb1717bd",
   "metadata": {},
   "outputs": [],
   "source": [
    "kmeans5=KMeans(n_clusters=5)\n"
   ]
  },
  {
   "cell_type": "code",
   "execution_count": null,
   "id": "29a91517-0ac7-4895-bf8b-b543759f7954",
   "metadata": {},
   "outputs": [],
   "source": [
    "iris_df['kpreds5']=kmeans5.fit(iris_df[features]).predict(iris_df[features])"
   ]
  },
  {
   "cell_type": "code",
   "execution_count": null,
   "id": "48187ff7-c27b-4a77-9aa7-3d572e27a68b",
   "metadata": {},
   "outputs": [],
   "source": [
    "(ggplot(data=iris_df, mapping=aes(x='sepal length (cm)',\n",
    "                                 y='sepal width (cm)', color='factor(kpreds5)'))+\n",
    "geom_point()+\n",
    "theme_bw())"
   ]
  },
  {
   "cell_type": "code",
   "execution_count": null,
   "id": "0d5a5519-4884-440a-a98f-c53fb337c721",
   "metadata": {},
   "outputs": [],
   "source": []
  }
 ],
 "metadata": {
  "kernelspec": {
   "display_name": "Python 3",
   "language": "python",
   "name": "python3"
  },
  "language_info": {
   "codemirror_mode": {
    "name": "ipython",
    "version": 3
   },
   "file_extension": ".py",
   "mimetype": "text/x-python",
   "name": "python",
   "nbconvert_exporter": "python",
   "pygments_lexer": "ipython3",
   "version": "3.8.8"
  }
 },
 "nbformat": 4,
 "nbformat_minor": 5
}
