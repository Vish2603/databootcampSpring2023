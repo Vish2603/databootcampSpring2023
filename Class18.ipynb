{
 "cells": [
  {
   "cell_type": "code",
   "execution_count": 1,
   "id": "59e51695-ea67-4a23-9110-0362c89b99c7",
   "metadata": {},
   "outputs": [],
   "source": [
    "import pandas as pd\n",
    "import numpy as np\n",
    "import matplotlib.pyplot as plt\n",
    "%matplotlib inline\n",
    "import statsmodels.formula.api as smf\n",
    "from numpy import random\n",
    "\n",
    "from plotnine import *\n",
    "%matplotlib inline"
   ]
  },
  {
   "cell_type": "markdown",
   "id": "ca812984-ef79-4f87-8932-983fc9f55ead",
   "metadata": {},
   "source": [
    "# Quasi-experimental techniques\n",
    "\n",
    "We don't always have the luxury of being able to obtain experiment data. In general, we have to deal with the fact that our treatment is not assigned at random but determined by external factors that might select who gets the treatment (\"selection bias\") making the treated and untreated groups no longer comparable.\n",
    "\n",
    "However, we could think of ways in which we can find sufficiently comparable groups under certain assumptions that would allow us to get away from selection bias. These techniques are highly sophisticated in terms of the logic, and can be quite difficult to apply, but they are mostly based on simple prediction models shaped to perform causal evaluation. \n"
   ]
  },
  {
   "cell_type": "markdown",
   "id": "955362a6-dfe1-4540-a39d-d338912cdc6d",
   "metadata": {},
   "source": [
    "## Regression Discontinuity Design (RDD)\n",
    "\n",
    "\n",
    "You can read my blogpost on Medium about this [too](https://medium.com/@pabloalejandrocrespo/a-regression-discontinuity-love-story-quasi-experimental-tools-in-the-age-of-a-b-tests-8a8c172fb42c).\n",
    "\n",
    "The image below is taken from Scott Cunningham's book \"Causal Inference: The Mixtape\":\n",
    "\n",
    "![RDD popularity](https://mixtape.scunning.com/graphics/RDD_overtime.jpg)\n",
    "\n",
    "As you can see, RDD is a technique that has gained incredible popularity over the last few years. But why? The reason is simple, RDD is capable of mostly eliminating selection bias. So, how do we actually identify an effect with this technique when we don't have experiment data?\n",
    "\n",
    "RDD takes advantage of the fact that we might have some overlapping policy that creates natural thresholds in the data. For example:\n",
    "\n",
    "* Border lines that separate Catholic and Protestant provinces in Austria\n",
    "* A cut-off score for standardized tests for college admissions\n",
    "* An age limit for consumption of specific substances\n",
    "* Star ratings on Yelp!\n",
    "\n",
    "\n",
    "In general we can find these exogenous thresholds as what we would consider a treatment and think of our data dispersed a certain distance away from the threshold.\n",
    "\n",
    "This part is important! We can think for example that a treatment is providing people with a loan. Then the thresholds on credit scores a bank uses to provide the loan are an indication of treatment. And they have a very important property, they are continuous. So we know how far anybody is from being in the treated group if they are in the control. Continuous variables that can provide us with thresholds that will eventually give us the treatment assignment are called 'running variables.' \n",
    "\n",
    "The wonderful thing about this idea of distance is that it can find us find comparable individuals across the sides of the threshold. \n",
    "\n",
    "Think about it. If the credit score threshold for getting a loan might be 650. If you picture two people, one with score 649 and the other with score of 651 we will have that one is not treated while one is, but they are most definitively comparable in terms of all of their financial  behavior or most relevant characteristics. "
   ]
  },
  {
   "cell_type": "markdown",
   "id": "35e3ccdf-a197-4dcf-bea2-48ba1459f9c7",
   "metadata": {},
   "source": [
    "## Potential outcome notation review and looking at the mathematics of RDD\n",
    "\n",
    "Recall the notation we learned last class, a certain outcome $Y$ can be notated differently if it happens to a member of the treated class or a member of the control class. \n",
    "\n",
    "We use $Y^0$ for units in the control class and $Y^1$ for members of the treated class.\n",
    "\n",
    "We define $\\delta$ as the treatment effect\n",
    "\n",
    "In addition we had made generalizations that allowed us to express the outcomes in simple equations. First we define a treatment indicator $T$\n",
    "\n",
    "\n",
    "$$T=\\begin{cases}\n",
    "        1, \\mbox{if Treated}\\\\ \n",
    "        0, \\mbox{Otherwise} \\\\\n",
    "        \\end{cases}$$\n",
    "        \n",
    "And also a general specification of outcomes:\n",
    "\n",
    "$$Y=\\begin{cases}\n",
    "        Y^1, \\mbox{if Treated}\\\\ \n",
    "        Y^0, \\mbox{Otherwise} \\\\\n",
    "        \\end{cases}$$\n",
    "        \n",
    "Which can then be summarized by the switching equation:\n",
    "\n",
    "$$Y=Y^0+(Y^1-Y^0)T$$\n",
    "\n",
    "\n",
    "Let us now introduce the running variable $X$ and a value of it that will be the threshold. Let's name the threshold $c_0$, then we know that for any value of $X$ that is above the threshold we have that treatment has been assigned. Let's rewrite our $T$\n",
    "\n",
    "$$T=\\begin{cases}\n",
    "        1, \\mbox{if }X\\geq c_0\\\\ \n",
    "        0, \\mbox{if }X<c_0 \\\\\n",
    "        \\end{cases}$$\n",
    "\n",
    "We could now redefine our equation for $Y^0$ as:\n",
    "\n",
    "$$Y^0=\\alpha+\\beta X$$\n",
    "\n",
    "And recall that:\n",
    "\n",
    "$$Y^1=Y^0+\\delta$$\n",
    "\n",
    "Let us take the switching equation and use our recent definitions:\n",
    "\n",
    "$$Y=Y^0+(Y^1-Y^0)T$$\n",
    "\n",
    "$$Y=\\alpha+\\beta X+\\delta T+\\varepsilon$$\n",
    "\n",
    "And recalling that $X$ now determines $T$, we can redifine the idea of $\\delta$ as:\n",
    "\n",
    "$$\\delta=\\underset{X\\rightarrow c_0}{\\mbox{lim}}\\mbox{mean}(Y^1 \\mbox{conditioned on}X=c_0)-\\underset{c_0\\leftarrow X}{\\mbox{lim}}\\mbox{mean}(Y^0 \\mbox{conditioned on}X=c_0)$$\n",
    "\n",
    "Meaning, that the treatment effect can be estimated by looking at the difference between the mean of the outcomes of the observations near the threshold.\n",
    "\n",
    "This means we do need sufficient data near the threshold to make the comparison, but we still have a way to identify our treatment effect! This is of course only found around the threshold, so we call it the LATE or local average treatment effect.\n",
    "\n",
    "Let's replicate the Carpenter and Dobkin (2009) study about the MLDA (minimum legal drinking age) and mortality rates.\n"
   ]
  },
  {
   "cell_type": "code",
   "execution_count": 2,
   "id": "6af6ac89-dad6-43a6-871f-a310d6cbcf9d",
   "metadata": {},
   "outputs": [],
   "source": [
    "#Reading the data\n",
    "\n",
    "alc_df=pd.read_csv('Mortrate.csv')"
   ]
  },
  {
   "cell_type": "code",
   "execution_count": 3,
   "id": "89de7a87-61d9-411a-8789-78c8a05831cf",
   "metadata": {},
   "outputs": [
    {
     "data": {
      "text/html": [
       "<div>\n",
       "<style scoped>\n",
       "    .dataframe tbody tr th:only-of-type {\n",
       "        vertical-align: middle;\n",
       "    }\n",
       "\n",
       "    .dataframe tbody tr th {\n",
       "        vertical-align: top;\n",
       "    }\n",
       "\n",
       "    .dataframe thead th {\n",
       "        text-align: right;\n",
       "    }\n",
       "</style>\n",
       "<table border=\"1\" class=\"dataframe\">\n",
       "  <thead>\n",
       "    <tr style=\"text-align: right;\">\n",
       "      <th></th>\n",
       "      <th>Unnamed: 0</th>\n",
       "      <th>agecell</th>\n",
       "      <th>all</th>\n",
       "      <th>allfitted</th>\n",
       "      <th>internal</th>\n",
       "      <th>internalfitted</th>\n",
       "      <th>external</th>\n",
       "      <th>externalfitted</th>\n",
       "      <th>alcohol</th>\n",
       "      <th>alcoholfitted</th>\n",
       "      <th>homicide</th>\n",
       "      <th>homicidefitted</th>\n",
       "      <th>suicide</th>\n",
       "      <th>suicidefitted</th>\n",
       "      <th>mva</th>\n",
       "      <th>mvafitted</th>\n",
       "      <th>drugs</th>\n",
       "      <th>drugsfitted</th>\n",
       "      <th>externalother</th>\n",
       "      <th>externalotherfitted</th>\n",
       "    </tr>\n",
       "  </thead>\n",
       "  <tbody>\n",
       "    <tr>\n",
       "      <th>0</th>\n",
       "      <td>1</td>\n",
       "      <td>19.068493</td>\n",
       "      <td>92.825401</td>\n",
       "      <td>91.706146</td>\n",
       "      <td>16.617590</td>\n",
       "      <td>16.738131</td>\n",
       "      <td>76.207817</td>\n",
       "      <td>74.968010</td>\n",
       "      <td>0.639138</td>\n",
       "      <td>0.794344</td>\n",
       "      <td>16.316818</td>\n",
       "      <td>16.284573</td>\n",
       "      <td>11.203714</td>\n",
       "      <td>11.592100</td>\n",
       "      <td>35.829327</td>\n",
       "      <td>34.817780</td>\n",
       "      <td>3.872425</td>\n",
       "      <td>3.448835</td>\n",
       "      <td>8.534373</td>\n",
       "      <td>8.388236</td>\n",
       "    </tr>\n",
       "    <tr>\n",
       "      <th>1</th>\n",
       "      <td>2</td>\n",
       "      <td>19.150684</td>\n",
       "      <td>95.100739</td>\n",
       "      <td>91.883720</td>\n",
       "      <td>18.327684</td>\n",
       "      <td>16.920654</td>\n",
       "      <td>76.773056</td>\n",
       "      <td>74.963066</td>\n",
       "      <td>0.677409</td>\n",
       "      <td>0.837575</td>\n",
       "      <td>16.859964</td>\n",
       "      <td>16.270697</td>\n",
       "      <td>12.193368</td>\n",
       "      <td>11.593611</td>\n",
       "      <td>35.639256</td>\n",
       "      <td>34.633888</td>\n",
       "      <td>3.236511</td>\n",
       "      <td>3.470022</td>\n",
       "      <td>8.655786</td>\n",
       "      <td>8.530174</td>\n",
       "    </tr>\n",
       "    <tr>\n",
       "      <th>2</th>\n",
       "      <td>3</td>\n",
       "      <td>19.232876</td>\n",
       "      <td>92.144295</td>\n",
       "      <td>92.049065</td>\n",
       "      <td>18.911053</td>\n",
       "      <td>17.098843</td>\n",
       "      <td>73.233238</td>\n",
       "      <td>74.950226</td>\n",
       "      <td>0.866443</td>\n",
       "      <td>0.877835</td>\n",
       "      <td>15.219254</td>\n",
       "      <td>16.262882</td>\n",
       "      <td>11.715812</td>\n",
       "      <td>11.595129</td>\n",
       "      <td>34.205650</td>\n",
       "      <td>34.446735</td>\n",
       "      <td>3.202071</td>\n",
       "      <td>3.492069</td>\n",
       "      <td>8.513741</td>\n",
       "      <td>8.662681</td>\n",
       "    </tr>\n",
       "    <tr>\n",
       "      <th>3</th>\n",
       "      <td>4</td>\n",
       "      <td>19.315069</td>\n",
       "      <td>88.427757</td>\n",
       "      <td>92.202141</td>\n",
       "      <td>16.101770</td>\n",
       "      <td>17.272680</td>\n",
       "      <td>72.325981</td>\n",
       "      <td>74.929466</td>\n",
       "      <td>0.867308</td>\n",
       "      <td>0.915115</td>\n",
       "      <td>16.742825</td>\n",
       "      <td>16.261148</td>\n",
       "      <td>11.275010</td>\n",
       "      <td>11.596655</td>\n",
       "      <td>32.278957</td>\n",
       "      <td>34.256302</td>\n",
       "      <td>3.280689</td>\n",
       "      <td>3.514980</td>\n",
       "      <td>8.258285</td>\n",
       "      <td>8.785728</td>\n",
       "    </tr>\n",
       "    <tr>\n",
       "      <th>4</th>\n",
       "      <td>5</td>\n",
       "      <td>19.397261</td>\n",
       "      <td>88.704941</td>\n",
       "      <td>92.342918</td>\n",
       "      <td>17.363520</td>\n",
       "      <td>17.442156</td>\n",
       "      <td>71.341415</td>\n",
       "      <td>74.900757</td>\n",
       "      <td>1.019163</td>\n",
       "      <td>0.949407</td>\n",
       "      <td>14.947726</td>\n",
       "      <td>16.265511</td>\n",
       "      <td>10.984314</td>\n",
       "      <td>11.598189</td>\n",
       "      <td>32.650967</td>\n",
       "      <td>34.062588</td>\n",
       "      <td>3.548198</td>\n",
       "      <td>3.538755</td>\n",
       "      <td>8.417533</td>\n",
       "      <td>8.899288</td>\n",
       "    </tr>\n",
       "  </tbody>\n",
       "</table>\n",
       "</div>"
      ],
      "text/plain": [
       "   Unnamed: 0    agecell        all  allfitted   internal  internalfitted  \\\n",
       "0           1  19.068493  92.825401  91.706146  16.617590       16.738131   \n",
       "1           2  19.150684  95.100739  91.883720  18.327684       16.920654   \n",
       "2           3  19.232876  92.144295  92.049065  18.911053       17.098843   \n",
       "3           4  19.315069  88.427757  92.202141  16.101770       17.272680   \n",
       "4           5  19.397261  88.704941  92.342918  17.363520       17.442156   \n",
       "\n",
       "    external  externalfitted   alcohol  alcoholfitted   homicide  \\\n",
       "0  76.207817       74.968010  0.639138       0.794344  16.316818   \n",
       "1  76.773056       74.963066  0.677409       0.837575  16.859964   \n",
       "2  73.233238       74.950226  0.866443       0.877835  15.219254   \n",
       "3  72.325981       74.929466  0.867308       0.915115  16.742825   \n",
       "4  71.341415       74.900757  1.019163       0.949407  14.947726   \n",
       "\n",
       "   homicidefitted    suicide  suicidefitted        mva  mvafitted     drugs  \\\n",
       "0       16.284573  11.203714      11.592100  35.829327  34.817780  3.872425   \n",
       "1       16.270697  12.193368      11.593611  35.639256  34.633888  3.236511   \n",
       "2       16.262882  11.715812      11.595129  34.205650  34.446735  3.202071   \n",
       "3       16.261148  11.275010      11.596655  32.278957  34.256302  3.280689   \n",
       "4       16.265511  10.984314      11.598189  32.650967  34.062588  3.548198   \n",
       "\n",
       "   drugsfitted  externalother  externalotherfitted  \n",
       "0     3.448835       8.534373             8.388236  \n",
       "1     3.470022       8.655786             8.530174  \n",
       "2     3.492069       8.513741             8.662681  \n",
       "3     3.514980       8.258285             8.785728  \n",
       "4     3.538755       8.417533             8.899288  "
      ]
     },
     "execution_count": 3,
     "metadata": {},
     "output_type": "execute_result"
    }
   ],
   "source": [
    "#Let's look at this\n",
    "\n",
    "alc_df.head()"
   ]
  },
  {
   "cell_type": "markdown",
   "id": "006c7613-bca1-47d0-8037-04a8bb1445e0",
   "metadata": {},
   "source": [
    "Here we have that agecell represents the binned ages for people bucketed for people born in a specific month and all represents the number of those who have died. in that bucket per 100,000 people. Let's look at this data:"
   ]
  },
  {
   "cell_type": "code",
   "execution_count": 4,
   "id": "f6a1c90b-a8a0-470c-9b99-d71b167a5a2c",
   "metadata": {},
   "outputs": [
    {
     "name": "stderr",
     "output_type": "stream",
     "text": [
      "/Users/pablocrespo/opt/anaconda3/lib/python3.8/site-packages/plotnine/layer.py:411: PlotnineWarning: geom_point : Removed 2 rows containing missing values.\n"
     ]
    },
    {
     "data": {
      "image/png": "[encoded data removed]",
      "text/plain": [
       "<Figure size 640x480 with 1 Axes>"
      ]
     },
     "metadata": {},
     "output_type": "display_data"
    },
    {
     "data": {
      "text/plain": [
       "<ggplot: (8783686299272)>"
      ]
     },
     "execution_count": 4,
     "metadata": {},
     "output_type": "execute_result"
    }
   ],
   "source": [
    "(ggplot(data=alc_df, mapping=aes(x='agecell', y='all'))+\n",
    "       geom_point()+\n",
    "  geom_vline(xintercept = 21, color = \"red\", size = 1, linetype = \"dashed\")+\n",
    " annotate(\"text\", x = 20.4, y = 105, label = \"Minimum Drinking Age\",\n",
    "           size=8)+\n",
    " labs(y = \"Mortality rate (per 100.000)\",\n",
    "       x = \"Age (binned)\")+\n",
    " theme_bw()\n",
    " \n",
    "       )"
   ]
  },
  {
   "cell_type": "markdown",
   "id": "e9854495-9ea3-4173-9726-73f7575815d1",
   "metadata": {},
   "source": [
    "We already see that there might be some reason for us to believe that there is a different between the sides of the threshold. Let's create a treatment indicator based on the threshold:"
   ]
  },
  {
   "cell_type": "code",
   "execution_count": 5,
   "id": "11220809-f2fd-43fb-b706-a743543198cb",
   "metadata": {},
   "outputs": [],
   "source": [
    "alc_df['threshold']=np.where(alc_df['agecell']>=21, 1, 0)\n",
    "\n",
    "# For the sake of making things more readable we will also create a centered\n",
    "#age variable, this transformation won't affect the results\n",
    "\n",
    "alc_df['centered']=alc_df['agecell']-21\n",
    "\n"
   ]
  },
  {
   "cell_type": "markdown",
   "id": "3d31be52-4da0-4382-84dc-5a1a523c0f85",
   "metadata": {},
   "source": [
    "Let's just make an attempt at doing the regression without changing much:"
   ]
  },
  {
   "cell_type": "code",
   "execution_count": 6,
   "id": "c784fcbb-d5e1-43bd-8c78-46c44aee5440",
   "metadata": {},
   "outputs": [
    {
     "data": {
      "text/html": [
       "<table class=\"simpletable\">\n",
       "<caption>OLS Regression Results</caption>\n",
       "<tr>\n",
       "  <th>Dep. Variable:</th>           <td>all</td>       <th>  R-squared:         </th> <td>   0.595</td>\n",
       "</tr>\n",
       "<tr>\n",
       "  <th>Model:</th>                   <td>OLS</td>       <th>  Adj. R-squared:    </th> <td>   0.577</td>\n",
       "</tr>\n",
       "<tr>\n",
       "  <th>Method:</th>             <td>Least Squares</td>  <th>  F-statistic:       </th> <td>   32.99</td>\n",
       "</tr>\n",
       "<tr>\n",
       "  <th>Date:</th>             <td>Thu, 17 Nov 2022</td> <th>  Prob (F-statistic):</th> <td>1.51e-09</td>\n",
       "</tr>\n",
       "<tr>\n",
       "  <th>Time:</th>                 <td>15:54:58</td>     <th>  Log-Likelihood:    </th> <td> -110.41</td>\n",
       "</tr>\n",
       "<tr>\n",
       "  <th>No. Observations:</th>      <td>    48</td>      <th>  AIC:               </th> <td>   226.8</td>\n",
       "</tr>\n",
       "<tr>\n",
       "  <th>Df Residuals:</th>          <td>    45</td>      <th>  BIC:               </th> <td>   232.4</td>\n",
       "</tr>\n",
       "<tr>\n",
       "  <th>Df Model:</th>              <td>     2</td>      <th>                     </th>     <td> </td>   \n",
       "</tr>\n",
       "<tr>\n",
       "  <th>Covariance Type:</th>      <td>nonrobust</td>    <th>                     </th>     <td> </td>   \n",
       "</tr>\n",
       "</table>\n",
       "<table class=\"simpletable\">\n",
       "<tr>\n",
       "      <td></td>         <th>coef</th>     <th>std err</th>      <th>t</th>      <th>P>|t|</th>  <th>[0.025</th>    <th>0.975]</th>  \n",
       "</tr>\n",
       "<tr>\n",
       "  <th>Intercept</th> <td>   91.8414</td> <td>    0.805</td> <td>  114.083</td> <td> 0.000</td> <td>   90.220</td> <td>   93.463</td>\n",
       "</tr>\n",
       "<tr>\n",
       "  <th>threshold</th> <td>    7.6627</td> <td>    1.440</td> <td>    5.320</td> <td> 0.000</td> <td>    4.762</td> <td>   10.564</td>\n",
       "</tr>\n",
       "<tr>\n",
       "  <th>centered</th>  <td>   -0.9747</td> <td>    0.632</td> <td>   -1.541</td> <td> 0.130</td> <td>   -2.249</td> <td>    0.299</td>\n",
       "</tr>\n",
       "</table>\n",
       "<table class=\"simpletable\">\n",
       "<tr>\n",
       "  <th>Omnibus:</th>       <td> 0.189</td> <th>  Durbin-Watson:     </th> <td>   1.617</td>\n",
       "</tr>\n",
       "<tr>\n",
       "  <th>Prob(Omnibus):</th> <td> 0.910</td> <th>  Jarque-Bera (JB):  </th> <td>   0.194</td>\n",
       "</tr>\n",
       "<tr>\n",
       "  <th>Skew:</th>          <td> 0.131</td> <th>  Prob(JB):          </th> <td>   0.907</td>\n",
       "</tr>\n",
       "<tr>\n",
       "  <th>Kurtosis:</th>      <td> 2.831</td> <th>  Cond. No.          </th> <td>    6.07</td>\n",
       "</tr>\n",
       "</table><br/><br/>Notes:<br/>[1] Standard Errors assume that the covariance matrix of the errors is correctly specified."
      ],
      "text/plain": [
       "<class 'statsmodels.iolib.summary.Summary'>\n",
       "\"\"\"\n",
       "                            OLS Regression Results                            \n",
       "==============================================================================\n",
       "Dep. Variable:                    all   R-squared:                       0.595\n",
       "Model:                            OLS   Adj. R-squared:                  0.577\n",
       "Method:                 Least Squares   F-statistic:                     32.99\n",
       "Date:                Thu, 17 Nov 2022   Prob (F-statistic):           1.51e-09\n",
       "Time:                        15:54:58   Log-Likelihood:                -110.41\n",
       "No. Observations:                  48   AIC:                             226.8\n",
       "Df Residuals:                      45   BIC:                             232.4\n",
       "Df Model:                           2                                         \n",
       "Covariance Type:            nonrobust                                         \n",
       "==============================================================================\n",
       "                 coef    std err          t      P>|t|      [0.025      0.975]\n",
       "------------------------------------------------------------------------------\n",
       "Intercept     91.8414      0.805    114.083      0.000      90.220      93.463\n",
       "threshold      7.6627      1.440      5.320      0.000       4.762      10.564\n",
       "centered      -0.9747      0.632     -1.541      0.130      -2.249       0.299\n",
       "==============================================================================\n",
       "Omnibus:                        0.189   Durbin-Watson:                   1.617\n",
       "Prob(Omnibus):                  0.910   Jarque-Bera (JB):                0.194\n",
       "Skew:                           0.131   Prob(JB):                        0.907\n",
       "Kurtosis:                       2.831   Cond. No.                         6.07\n",
       "==============================================================================\n",
       "\n",
       "Notes:\n",
       "[1] Standard Errors assume that the covariance matrix of the errors is correctly specified.\n",
       "\"\"\""
      ]
     },
     "execution_count": 6,
     "metadata": {},
     "output_type": "execute_result"
    }
   ],
   "source": [
    "reg1 = smf.ols('all ~ threshold+centered',alc_df).fit()\n",
    "\n",
    "reg1.summary()"
   ]
  },
  {
   "cell_type": "code",
   "execution_count": 8,
   "id": "a3326d0a-e659-4665-861a-d8b6263dbf35",
   "metadata": {},
   "outputs": [
    {
     "data": {
      "text/html": [
       "<table class=\"simpletable\">\n",
       "<caption>OLS Regression Results</caption>\n",
       "<tr>\n",
       "  <th>Dep. Variable:</th>           <td>all</td>       <th>  R-squared:         </th> <td>   0.595</td>\n",
       "</tr>\n",
       "<tr>\n",
       "  <th>Model:</th>                   <td>OLS</td>       <th>  Adj. R-squared:    </th> <td>   0.577</td>\n",
       "</tr>\n",
       "<tr>\n",
       "  <th>Method:</th>             <td>Least Squares</td>  <th>  F-statistic:       </th> <td>   32.99</td>\n",
       "</tr>\n",
       "<tr>\n",
       "  <th>Date:</th>             <td>Thu, 17 Nov 2022</td> <th>  Prob (F-statistic):</th> <td>1.51e-09</td>\n",
       "</tr>\n",
       "<tr>\n",
       "  <th>Time:</th>                 <td>15:56:41</td>     <th>  Log-Likelihood:    </th> <td> -110.41</td>\n",
       "</tr>\n",
       "<tr>\n",
       "  <th>No. Observations:</th>      <td>    48</td>      <th>  AIC:               </th> <td>   226.8</td>\n",
       "</tr>\n",
       "<tr>\n",
       "  <th>Df Residuals:</th>          <td>    45</td>      <th>  BIC:               </th> <td>   232.4</td>\n",
       "</tr>\n",
       "<tr>\n",
       "  <th>Df Model:</th>              <td>     2</td>      <th>                     </th>     <td> </td>   \n",
       "</tr>\n",
       "<tr>\n",
       "  <th>Covariance Type:</th>      <td>nonrobust</td>    <th>                     </th>     <td> </td>   \n",
       "</tr>\n",
       "</table>\n",
       "<table class=\"simpletable\">\n",
       "<tr>\n",
       "      <td></td>         <th>coef</th>     <th>std err</th>      <th>t</th>      <th>P>|t|</th>  <th>[0.025</th>    <th>0.975]</th>  \n",
       "</tr>\n",
       "<tr>\n",
       "  <th>Intercept</th> <td>  112.3097</td> <td>   12.668</td> <td>    8.866</td> <td> 0.000</td> <td>   86.795</td> <td>  137.825</td>\n",
       "</tr>\n",
       "<tr>\n",
       "  <th>threshold</th> <td>    7.6627</td> <td>    1.440</td> <td>    5.320</td> <td> 0.000</td> <td>    4.762</td> <td>   10.564</td>\n",
       "</tr>\n",
       "<tr>\n",
       "  <th>agecell</th>   <td>   -0.9747</td> <td>    0.632</td> <td>   -1.541</td> <td> 0.130</td> <td>   -2.249</td> <td>    0.299</td>\n",
       "</tr>\n",
       "</table>\n",
       "<table class=\"simpletable\">\n",
       "<tr>\n",
       "  <th>Omnibus:</th>       <td> 0.189</td> <th>  Durbin-Watson:     </th> <td>   1.617</td>\n",
       "</tr>\n",
       "<tr>\n",
       "  <th>Prob(Omnibus):</th> <td> 0.910</td> <th>  Jarque-Bera (JB):  </th> <td>   0.194</td>\n",
       "</tr>\n",
       "<tr>\n",
       "  <th>Skew:</th>          <td> 0.131</td> <th>  Prob(JB):          </th> <td>   0.907</td>\n",
       "</tr>\n",
       "<tr>\n",
       "  <th>Kurtosis:</th>      <td> 2.831</td> <th>  Cond. No.          </th> <td>    746.</td>\n",
       "</tr>\n",
       "</table><br/><br/>Notes:<br/>[1] Standard Errors assume that the covariance matrix of the errors is correctly specified."
      ],
      "text/plain": [
       "<class 'statsmodels.iolib.summary.Summary'>\n",
       "\"\"\"\n",
       "                            OLS Regression Results                            \n",
       "==============================================================================\n",
       "Dep. Variable:                    all   R-squared:                       0.595\n",
       "Model:                            OLS   Adj. R-squared:                  0.577\n",
       "Method:                 Least Squares   F-statistic:                     32.99\n",
       "Date:                Thu, 17 Nov 2022   Prob (F-statistic):           1.51e-09\n",
       "Time:                        15:56:41   Log-Likelihood:                -110.41\n",
       "No. Observations:                  48   AIC:                             226.8\n",
       "Df Residuals:                      45   BIC:                             232.4\n",
       "Df Model:                           2                                         \n",
       "Covariance Type:            nonrobust                                         \n",
       "==============================================================================\n",
       "                 coef    std err          t      P>|t|      [0.025      0.975]\n",
       "------------------------------------------------------------------------------\n",
       "Intercept    112.3097     12.668      8.866      0.000      86.795     137.825\n",
       "threshold      7.6627      1.440      5.320      0.000       4.762      10.564\n",
       "agecell       -0.9747      0.632     -1.541      0.130      -2.249       0.299\n",
       "==============================================================================\n",
       "Omnibus:                        0.189   Durbin-Watson:                   1.617\n",
       "Prob(Omnibus):                  0.910   Jarque-Bera (JB):                0.194\n",
       "Skew:                           0.131   Prob(JB):                        0.907\n",
       "Kurtosis:                       2.831   Cond. No.                         746.\n",
       "==============================================================================\n",
       "\n",
       "Notes:\n",
       "[1] Standard Errors assume that the covariance matrix of the errors is correctly specified.\n",
       "\"\"\""
      ]
     },
     "execution_count": 8,
     "metadata": {},
     "output_type": "execute_result"
    }
   ],
   "source": [
    "reg2 = smf.ols('all ~ threshold+agecell',alc_df).fit()\n",
    "\n",
    "reg2.summary()"
   ]
  },
  {
   "cell_type": "markdown",
   "id": "f3ae32b3-a817-492c-92a4-1e3feb0cbe76",
   "metadata": {},
   "source": [
    "Our local treatment effect estimate is the parameter for threshold. Here we have that the difference in mortality caused by the drinking age limit is 7.66 pero 100000 on average. Let's visualize this regression."
   ]
  },
  {
   "cell_type": "code",
   "execution_count": 7,
   "id": "24f5a0fc-b3f0-4005-8659-e72791b2fbf5",
   "metadata": {},
   "outputs": [
    {
     "name": "stderr",
     "output_type": "stream",
     "text": [
      "/Users/pablocrespo/opt/anaconda3/lib/python3.8/site-packages/plotnine/layer.py:411: PlotnineWarning: geom_point : Removed 2 rows containing missing values.\n"
     ]
    },
    {
     "data": {
      "image/png": "[encoded data removed]",
      "text/plain": [
       "<Figure size 640x480 with 1 Axes>"
      ]
     },
     "metadata": {},
     "output_type": "display_data"
    },
    {
     "data": {
      "text/plain": [
       "<ggplot: (8783686346611)>"
      ]
     },
     "execution_count": 7,
     "metadata": {},
     "output_type": "execute_result"
    }
   ],
   "source": [
    "(ggplot(data=alc_df, mapping=aes(x='agecell', y='all'))+\n",
    "       geom_point(aes(color='factor(threshold)'))+\n",
    " scale_color_manual(values=['darkorange', 'purple'])+\n",
    " geom_smooth(method='lm', se=False, color='blue')+\n",
    " geom_vline(xintercept = 21, color = \"red\", size = 1, linetype = \"dashed\")+\n",
    " labs(y = \"Mortality rate (per 100.000)\",\n",
    "       x = \"Age (binned)\")+\n",
    " theme_bw()\n",
    ")"
   ]
  },
  {
   "cell_type": "markdown",
   "id": "37a1e6cf-4230-4ce9-aaf1-4d8b1e549918",
   "metadata": {},
   "source": [
    "Well, I am stil not necessarily convinced this regression is great, and also the slope shows me nothing interesting. Let's create a regression that actually looks like this:\n",
    "\n",
    "$$Y=\\alpha+\\beta X+\\delta T+\\gamma XT+\\varepsilon$$\n",
    "\n",
    "In which we make sure that we are interacting the running variable with the treatment assignment (although we probably did that already), and also plot the regression when we do not assume that both slopes should be the same on each side of the regression.\n",
    "\n",
    "Let's create the cross\n"
   ]
  },
  {
   "cell_type": "code",
   "execution_count": 10,
   "id": "9604b301-1421-41d0-9e03-f054470e6f24",
   "metadata": {},
   "outputs": [],
   "source": [
    "alc_df['cross']=alc_df['threshold']*alc_df['centered']"
   ]
  },
  {
   "cell_type": "markdown",
   "id": "31ddc755-77c0-4548-a81a-98288e03d3a8",
   "metadata": {},
   "source": [
    "Let's do the regression:"
   ]
  },
  {
   "cell_type": "code",
   "execution_count": 11,
   "id": "d559ab9f-715e-4cfa-9499-116fa82c9cde",
   "metadata": {},
   "outputs": [
    {
     "data": {
      "text/html": [
       "<table class=\"simpletable\">\n",
       "<caption>OLS Regression Results</caption>\n",
       "<tr>\n",
       "  <th>Dep. Variable:</th>           <td>all</td>       <th>  R-squared:         </th> <td>   0.668</td>\n",
       "</tr>\n",
       "<tr>\n",
       "  <th>Model:</th>                   <td>OLS</td>       <th>  Adj. R-squared:    </th> <td>   0.645</td>\n",
       "</tr>\n",
       "<tr>\n",
       "  <th>Method:</th>             <td>Least Squares</td>  <th>  F-statistic:       </th> <td>   29.47</td>\n",
       "</tr>\n",
       "<tr>\n",
       "  <th>Date:</th>             <td>Thu, 17 Nov 2022</td> <th>  Prob (F-statistic):</th> <td>1.33e-10</td>\n",
       "</tr>\n",
       "<tr>\n",
       "  <th>Time:</th>                 <td>16:02:33</td>     <th>  Log-Likelihood:    </th> <td> -105.64</td>\n",
       "</tr>\n",
       "<tr>\n",
       "  <th>No. Observations:</th>      <td>    48</td>      <th>  AIC:               </th> <td>   219.3</td>\n",
       "</tr>\n",
       "<tr>\n",
       "  <th>Df Residuals:</th>          <td>    44</td>      <th>  BIC:               </th> <td>   226.8</td>\n",
       "</tr>\n",
       "<tr>\n",
       "  <th>Df Model:</th>              <td>     3</td>      <th>                     </th>     <td> </td>   \n",
       "</tr>\n",
       "<tr>\n",
       "  <th>Covariance Type:</th>      <td>nonrobust</td>    <th>                     </th>     <td> </td>   \n",
       "</tr>\n",
       "</table>\n",
       "<table class=\"simpletable\">\n",
       "<tr>\n",
       "      <td></td>         <th>coef</th>     <th>std err</th>      <th>t</th>      <th>P>|t|</th>  <th>[0.025</th>    <th>0.975]</th>  \n",
       "</tr>\n",
       "<tr>\n",
       "  <th>Intercept</th> <td>   93.6184</td> <td>    0.932</td> <td>  100.399</td> <td> 0.000</td> <td>   91.739</td> <td>   95.498</td>\n",
       "</tr>\n",
       "<tr>\n",
       "  <th>threshold</th> <td>    7.6627</td> <td>    1.319</td> <td>    5.811</td> <td> 0.000</td> <td>    5.005</td> <td>   10.320</td>\n",
       "</tr>\n",
       "<tr>\n",
       "  <th>centered</th>  <td>    0.8270</td> <td>    0.819</td> <td>    1.010</td> <td> 0.318</td> <td>   -0.823</td> <td>    2.477</td>\n",
       "</tr>\n",
       "<tr>\n",
       "  <th>cross</th>     <td>   -3.6034</td> <td>    1.158</td> <td>   -3.111</td> <td> 0.003</td> <td>   -5.937</td> <td>   -1.269</td>\n",
       "</tr>\n",
       "</table>\n",
       "<table class=\"simpletable\">\n",
       "<tr>\n",
       "  <th>Omnibus:</th>       <td> 0.294</td> <th>  Durbin-Watson:     </th> <td>   1.965</td>\n",
       "</tr>\n",
       "<tr>\n",
       "  <th>Prob(Omnibus):</th> <td> 0.863</td> <th>  Jarque-Bera (JB):  </th> <td>   0.411</td>\n",
       "</tr>\n",
       "<tr>\n",
       "  <th>Skew:</th>          <td> 0.167</td> <th>  Prob(JB):          </th> <td>   0.814</td>\n",
       "</tr>\n",
       "<tr>\n",
       "  <th>Kurtosis:</th>      <td> 2.693</td> <th>  Cond. No.          </th> <td>    7.75</td>\n",
       "</tr>\n",
       "</table><br/><br/>Notes:<br/>[1] Standard Errors assume that the covariance matrix of the errors is correctly specified."
      ],
      "text/plain": [
       "<class 'statsmodels.iolib.summary.Summary'>\n",
       "\"\"\"\n",
       "                            OLS Regression Results                            \n",
       "==============================================================================\n",
       "Dep. Variable:                    all   R-squared:                       0.668\n",
       "Model:                            OLS   Adj. R-squared:                  0.645\n",
       "Method:                 Least Squares   F-statistic:                     29.47\n",
       "Date:                Thu, 17 Nov 2022   Prob (F-statistic):           1.33e-10\n",
       "Time:                        16:02:33   Log-Likelihood:                -105.64\n",
       "No. Observations:                  48   AIC:                             219.3\n",
       "Df Residuals:                      44   BIC:                             226.8\n",
       "Df Model:                           3                                         \n",
       "Covariance Type:            nonrobust                                         \n",
       "==============================================================================\n",
       "                 coef    std err          t      P>|t|      [0.025      0.975]\n",
       "------------------------------------------------------------------------------\n",
       "Intercept     93.6184      0.932    100.399      0.000      91.739      95.498\n",
       "threshold      7.6627      1.319      5.811      0.000       5.005      10.320\n",
       "centered       0.8270      0.819      1.010      0.318      -0.823       2.477\n",
       "cross         -3.6034      1.158     -3.111      0.003      -5.937      -1.269\n",
       "==============================================================================\n",
       "Omnibus:                        0.294   Durbin-Watson:                   1.965\n",
       "Prob(Omnibus):                  0.863   Jarque-Bera (JB):                0.411\n",
       "Skew:                           0.167   Prob(JB):                        0.814\n",
       "Kurtosis:                       2.693   Cond. No.                         7.75\n",
       "==============================================================================\n",
       "\n",
       "Notes:\n",
       "[1] Standard Errors assume that the covariance matrix of the errors is correctly specified.\n",
       "\"\"\""
      ]
     },
     "execution_count": 11,
     "metadata": {},
     "output_type": "execute_result"
    }
   ],
   "source": [
    "reg2 = smf.ols('all ~ threshold+centered+cross',alc_df).fit()\n",
    "\n",
    "reg2.summary()"
   ]
  },
  {
   "cell_type": "markdown",
   "id": "e4b86e1f-313b-441f-aed3-99fe4445cd50",
   "metadata": {},
   "source": [
    "We see that we have the same LATE and it is still significant! How about we plot it now without assuming each side has the same slope."
   ]
  },
  {
   "cell_type": "code",
   "execution_count": 9,
   "id": "b6d979ed-29cf-4c3f-a0d7-b84e4e5d33b8",
   "metadata": {},
   "outputs": [
    {
     "name": "stderr",
     "output_type": "stream",
     "text": [
      "/Users/pablocrespo/opt/anaconda3/lib/python3.8/site-packages/plotnine/layer.py:411: PlotnineWarning: geom_point : Removed 2 rows containing missing values.\n"
     ]
    },
    {
     "data": {
      "image/png": "[encoded data removed]",
      "text/plain": [
       "<Figure size 640x480 with 1 Axes>"
      ]
     },
     "metadata": {},
     "output_type": "display_data"
    },
    {
     "data": {
      "text/plain": [
       "<ggplot: (8783686368199)>"
      ]
     },
     "execution_count": 9,
     "metadata": {},
     "output_type": "execute_result"
    }
   ],
   "source": [
    "(ggplot(data=alc_df, mapping=aes(x='agecell', y='all', \n",
    "                                 color='factor(threshold)'))+\n",
    "       geom_point()+\n",
    " scale_color_manual(values=['darkorange', 'purple'])+\n",
    " geom_smooth(method='lm', se=False)+\n",
    " geom_vline(xintercept = 21, color = \"red\", size = 1, linetype = \"dashed\")+\n",
    " labs(y = \"Mortality rate (per 100.000)\",\n",
    "       x = \"Age (binned)\")+\n",
    " theme_bw()\n",
    ")"
   ]
  },
  {
   "cell_type": "markdown",
   "id": "11f5c230-1100-4891-bfd9-7d486ae230cf",
   "metadata": {},
   "source": [
    "We can now CLEARLY see that 7.6 difference at the threshold line and we know that the slopes of the regressions on both sides. So what about if we had something that is not just linear? Like a polynomial, would we really see the break? Or be able to measure it? Let's try this equation: \n",
    "\n",
    "$$Y=\\alpha+\\beta_1 X+\\beta_2 X^2 +\\delta T+\\gamma_1 XT+\\gamma_2 X^2 T+\\varepsilon$$\n",
    "\n",
    "Let's make the adequate vars:\n"
   ]
  },
  {
   "cell_type": "code",
   "execution_count": 12,
   "id": "3028151e-3d74-4aef-961e-517977dadf89",
   "metadata": {},
   "outputs": [],
   "source": [
    "#Squared term\n",
    "alc_df['csq']=alc_df['centered']**2\n",
    "#Squared cross term\n",
    "alc_df['crosssq']=alc_df['csq']*alc_df['threshold']"
   ]
  },
  {
   "cell_type": "code",
   "execution_count": 13,
   "id": "524d9660-2e6c-4a4a-aa3b-66ba3a1e7cff",
   "metadata": {},
   "outputs": [
    {
     "data": {
      "text/html": [
       "<table class=\"simpletable\">\n",
       "<caption>OLS Regression Results</caption>\n",
       "<tr>\n",
       "  <th>Dep. Variable:</th>           <td>all</td>       <th>  R-squared:         </th> <td>   0.682</td>\n",
       "</tr>\n",
       "<tr>\n",
       "  <th>Model:</th>                   <td>OLS</td>       <th>  Adj. R-squared:    </th> <td>   0.644</td>\n",
       "</tr>\n",
       "<tr>\n",
       "  <th>Method:</th>             <td>Least Squares</td>  <th>  F-statistic:       </th> <td>   18.02</td>\n",
       "</tr>\n",
       "<tr>\n",
       "  <th>Date:</th>             <td>Thu, 17 Nov 2022</td> <th>  Prob (F-statistic):</th> <td>1.62e-09</td>\n",
       "</tr>\n",
       "<tr>\n",
       "  <th>Time:</th>                 <td>16:04:42</td>     <th>  Log-Likelihood:    </th> <td> -104.57</td>\n",
       "</tr>\n",
       "<tr>\n",
       "  <th>No. Observations:</th>      <td>    48</td>      <th>  AIC:               </th> <td>   221.1</td>\n",
       "</tr>\n",
       "<tr>\n",
       "  <th>Df Residuals:</th>          <td>    42</td>      <th>  BIC:               </th> <td>   232.4</td>\n",
       "</tr>\n",
       "<tr>\n",
       "  <th>Df Model:</th>              <td>     5</td>      <th>                     </th>     <td> </td>   \n",
       "</tr>\n",
       "<tr>\n",
       "  <th>Covariance Type:</th>      <td>nonrobust</td>    <th>                     </th>     <td> </td>   \n",
       "</tr>\n",
       "</table>\n",
       "<table class=\"simpletable\">\n",
       "<tr>\n",
       "      <td></td>         <th>coef</th>     <th>std err</th>      <th>t</th>      <th>P>|t|</th>  <th>[0.025</th>    <th>0.975]</th>  \n",
       "</tr>\n",
       "<tr>\n",
       "  <th>Intercept</th> <td>   93.0729</td> <td>    1.404</td> <td>   66.301</td> <td> 0.000</td> <td>   90.240</td> <td>   95.906</td>\n",
       "</tr>\n",
       "<tr>\n",
       "  <th>threshold</th> <td>    9.5478</td> <td>    1.985</td> <td>    4.809</td> <td> 0.000</td> <td>    5.541</td> <td>   13.554</td>\n",
       "</tr>\n",
       "<tr>\n",
       "  <th>centered</th>  <td>   -0.8306</td> <td>    3.290</td> <td>   -0.252</td> <td> 0.802</td> <td>   -7.470</td> <td>    5.809</td>\n",
       "</tr>\n",
       "<tr>\n",
       "  <th>cross</th>     <td>   -6.0170</td> <td>    4.653</td> <td>   -1.293</td> <td> 0.203</td> <td>  -15.407</td> <td>    3.373</td>\n",
       "</tr>\n",
       "<tr>\n",
       "  <th>csq</th>       <td>   -0.8403</td> <td>    1.615</td> <td>   -0.520</td> <td> 0.606</td> <td>   -4.100</td> <td>    2.419</td>\n",
       "</tr>\n",
       "<tr>\n",
       "  <th>crosssq</th>   <td>    2.9042</td> <td>    2.284</td> <td>    1.271</td> <td> 0.211</td> <td>   -1.706</td> <td>    7.514</td>\n",
       "</tr>\n",
       "</table>\n",
       "<table class=\"simpletable\">\n",
       "<tr>\n",
       "  <th>Omnibus:</th>       <td> 0.040</td> <th>  Durbin-Watson:     </th> <td>   2.004</td>\n",
       "</tr>\n",
       "<tr>\n",
       "  <th>Prob(Omnibus):</th> <td> 0.980</td> <th>  Jarque-Bera (JB):  </th> <td>   0.203</td>\n",
       "</tr>\n",
       "<tr>\n",
       "  <th>Skew:</th>          <td> 0.049</td> <th>  Prob(JB):          </th> <td>   0.903</td>\n",
       "</tr>\n",
       "<tr>\n",
       "  <th>Kurtosis:</th>      <td> 2.697</td> <th>  Cond. No.          </th> <td>    40.1</td>\n",
       "</tr>\n",
       "</table><br/><br/>Notes:<br/>[1] Standard Errors assume that the covariance matrix of the errors is correctly specified."
      ],
      "text/plain": [
       "<class 'statsmodels.iolib.summary.Summary'>\n",
       "\"\"\"\n",
       "                            OLS Regression Results                            \n",
       "==============================================================================\n",
       "Dep. Variable:                    all   R-squared:                       0.682\n",
       "Model:                            OLS   Adj. R-squared:                  0.644\n",
       "Method:                 Least Squares   F-statistic:                     18.02\n",
       "Date:                Thu, 17 Nov 2022   Prob (F-statistic):           1.62e-09\n",
       "Time:                        16:04:42   Log-Likelihood:                -104.57\n",
       "No. Observations:                  48   AIC:                             221.1\n",
       "Df Residuals:                      42   BIC:                             232.4\n",
       "Df Model:                           5                                         \n",
       "Covariance Type:            nonrobust                                         \n",
       "==============================================================================\n",
       "                 coef    std err          t      P>|t|      [0.025      0.975]\n",
       "------------------------------------------------------------------------------\n",
       "Intercept     93.0729      1.404     66.301      0.000      90.240      95.906\n",
       "threshold      9.5478      1.985      4.809      0.000       5.541      13.554\n",
       "centered      -0.8306      3.290     -0.252      0.802      -7.470       5.809\n",
       "cross         -6.0170      4.653     -1.293      0.203     -15.407       3.373\n",
       "csq           -0.8403      1.615     -0.520      0.606      -4.100       2.419\n",
       "crosssq        2.9042      2.284      1.271      0.211      -1.706       7.514\n",
       "==============================================================================\n",
       "Omnibus:                        0.040   Durbin-Watson:                   2.004\n",
       "Prob(Omnibus):                  0.980   Jarque-Bera (JB):                0.203\n",
       "Skew:                           0.049   Prob(JB):                        0.903\n",
       "Kurtosis:                       2.697   Cond. No.                         40.1\n",
       "==============================================================================\n",
       "\n",
       "Notes:\n",
       "[1] Standard Errors assume that the covariance matrix of the errors is correctly specified.\n",
       "\"\"\""
      ]
     },
     "execution_count": 13,
     "metadata": {},
     "output_type": "execute_result"
    }
   ],
   "source": [
    "reg3 = smf.ols('all ~ threshold+centered+cross+csq+crosssq',alc_df).fit()\n",
    "\n",
    "reg3.summary()"
   ]
  },
  {
   "cell_type": "markdown",
   "id": "226b2832-aa18-4490-97ef-855d89a925e5",
   "metadata": {},
   "source": [
    "We see it being significant still. And even a bit higher than before! 9.54"
   ]
  },
  {
   "cell_type": "code",
   "execution_count": 14,
   "id": "57b572e6-b250-46c9-a32e-9bb819c29607",
   "metadata": {},
   "outputs": [
    {
     "name": "stderr",
     "output_type": "stream",
     "text": [
      "/Users/pablocrespo/opt/anaconda3/lib/python3.8/site-packages/plotnine/layer.py:411: PlotnineWarning: geom_point : Removed 2 rows containing missing values.\n"
     ]
    },
    {
     "data": {
      "image/png": "[encoded data removed]",
      "text/plain": [
       "<Figure size 640x480 with 1 Axes>"
      ]
     },
     "metadata": {},
     "output_type": "display_data"
    },
    {
     "data": {
      "text/plain": [
       "<ggplot: (8783677890115)>"
      ]
     },
     "execution_count": 14,
     "metadata": {},
     "output_type": "execute_result"
    }
   ],
   "source": [
    "(ggplot(data=alc_df, mapping=aes(x='agecell', y='all', \n",
    "                                 color='factor(threshold)'))+\n",
    "       geom_point()+\n",
    " scale_color_manual(values=['darkorange', 'purple'])+\n",
    " geom_smooth(method='lm',\n",
    "             formula = 'y ~ x+I(x**2)',se=False)+\n",
    " geom_vline(xintercept = 21, color = \"red\", size = 1, linetype = \"dashed\")+\n",
    " labs(y = \"Mortality rate (per 100.000)\",\n",
    "       x = \"Age (binned)\")+\n",
    " theme_bw()\n",
    ")"
   ]
  },
  {
   "cell_type": "markdown",
   "id": "21ad5af4-fcd5-4b4a-b138-5840066a3edf",
   "metadata": {},
   "source": [
    "Through these falsification tests, we know that we can trust our results are good. There are other ways to verify such, but they are beyond the scope of our course."
   ]
  },
  {
   "cell_type": "code",
   "execution_count": null,
   "id": "dc646936-fb1a-4958-9a34-5100848764b1",
   "metadata": {},
   "outputs": [],
   "source": []
  }
 ],
 "metadata": {
  "kernelspec": {
   "display_name": "Python 3",
   "language": "python",
   "name": "python3"
  },
  "language_info": {
   "codemirror_mode": {
    "name": "ipython",
    "version": 3
   },
   "file_extension": ".py",
   "mimetype": "text/x-python",
   "name": "python",
   "nbconvert_exporter": "python",
   "pygments_lexer": "ipython3",
   "version": "3.8.8"
  }
 },
 "nbformat": 4,
 "nbformat_minor": 5
}
