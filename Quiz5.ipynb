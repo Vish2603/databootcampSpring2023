{
 "cells": [
  {
   "cell_type": "markdown",
   "id": "217a22c0-d214-41bf-9fce-f1bc1d3c5c27",
   "metadata": {},
   "source": [
    "# Quiz 5\n",
    "\n",
    "## Name\n",
    "## NetID\n",
    "\n",
    "We will use a dataset known as the \"Pima Indians\" dataset. This data observes the diabetes status of members of the Pima tribe. You will have a few variables to work with:\n",
    "\n",
    "* Number of times pregnant.\n",
    "\n",
    "* Plasma glucose concentration a 2 hours in an oral glucose tolerance test.\n",
    "\n",
    "* Diastolic blood pressure (mm Hg).\n",
    "\n",
    "* Triceps skinfold thickness (mm).\n",
    "\n",
    "* 2-Hour serum insulin (mu U/ml).\n",
    "\n",
    "* Body mass index (weight in kg/(height in m)^2).\n",
    "\n",
    "* Diabetes pedigree function.\n",
    "\n",
    "* Age (years).\n",
    "\n",
    "* Class variable Diabetic or Not (0 or 1).\n",
    "\n",
    "\n",
    "\n",
    "The cell below imports the data, the variables are ordered the same as above\n",
    "\n",
    "The url is here:\n",
    "\n",
    "\"https://raw.githubusercontent.com/jbrownlee/Datasets/master/pima-indians-diabetes.csv\""
   ]
  },
  {
   "cell_type": "code",
   "execution_count": 1,
   "id": "5b0a87b0-aacf-4330-9955-86bd319b555b",
   "metadata": {},
   "outputs": [],
   "source": [
    "import pandas as pd\n",
    "import numpy as np\n",
    "from plotnine import *"
   ]
  },
  {
   "cell_type": "code",
   "execution_count": 2,
   "id": "ea2dbc08-1226-461d-a102-b6a890db3c18",
   "metadata": {},
   "outputs": [],
   "source": [
    "url=\"https://raw.githubusercontent.com/jbrownlee/Datasets/master/pima-indians-diabetes.csv\"\n",
    "\n",
    "df=pd.read_csv(url, names=['preg', 'plas',\n",
    "                          'bp', 'thick',\n",
    "                          'insulin', 'bmi',\n",
    "                          'diaped','age', 'diab'])"
   ]
  },
  {
   "cell_type": "markdown",
   "id": "4096dcc7-9b8a-4c04-86db-9edbaeb2673f",
   "metadata": {},
   "source": [
    "We would like to be able to predict diabetes from this dataset. We will use random forests to make sure we can accomplish this task. You will do a few things:\n",
    "\n",
    "\n",
    "* Check if the classes are balanced\n",
    "\n",
    "* If the classes are imbalanced use one of the techniques we talked about in class to ameliorate the problem. Check if you do better by just running a model with no hyperparameter assignment to compare.\n",
    "\n",
    "* Do a train test split and draw a ROC curve using the default values for the random forest classifier. What is the AUC for the people who are diabetic?\n",
    "\n",
    "* Set the number of trees to 100 and use 5 fold cross-validation and the AUC to look for the best value for max_depth"
   ]
  }
 ],
 "metadata": {
  "kernelspec": {
   "display_name": "Python 3",
   "language": "python",
   "name": "python3"
  },
  "language_info": {
   "codemirror_mode": {
    "name": "ipython",
    "version": 3
   },
   "file_extension": ".py",
   "mimetype": "text/x-python",
   "name": "python",
   "nbconvert_exporter": "python",
   "pygments_lexer": "ipython3",
   "version": "3.8.8"
  }
 },
 "nbformat": 4,
 "nbformat_minor": 5
}
